{
 "cells": [
  {
   "cell_type": "markdown",
   "metadata": {},
   "source": [
    "# Pre-processing and Modeling\n",
    "\n",
    "In this notebook, my objective is to consolidate some features to make the predictor matrix more rank efficient and then analyze various linear regression models to determine the most accurate prediction algorithm utilizing linear regression. \n",
    "\n",
    "My work flow is as follows:\n",
    "* Create new features to make predictors more rank efficient\n",
    "* Perform  the baseline model (the mean sale price is the result of the predictors)\n",
    "* Perform  linear regression with features filtered by their VIF and Recursive Feature Elimination \n",
    "* Perform  linear regression with an overfit model to all of my features\n",
    "* Perform  linear regression with a lasso (L1) regularized linear regression\n",
    "* Perform linear regression with a Ridge (L2) regularized linear regression\n",
    "* Perform standard linear regression with features identified as significant by lasso regularization\n",
    "* Identify production algorithm\n",
    "    * Defend choice of production algorithm\n",
    "    * Explanation of model\n",
    "    * Performance successes and downfalls"
   ]
  },
  {
   "cell_type": "code",
   "execution_count": 1,
   "metadata": {
    "ExecuteTime": {
     "end_time": "2021-01-19T18:59:19.010742Z",
     "start_time": "2021-01-19T18:59:15.718941Z"
    }
   },
   "outputs": [],
   "source": [
    "import pandas as pd\n",
    "import numpy as np\n",
    "import matplotlib.pyplot as plt\n",
    "import seaborn as sns\n",
    "import math\n",
    "import statsmodels.api as sm\n",
    "\n",
    "from sklearn.linear_model import LinearRegression, LassoCV, RidgeCV\n",
    "from sklearn.dummy import DummyRegressor\n",
    "from sklearn.preprocessing import StandardScaler\n",
    "from sklearn.feature_selection import RFE\n",
    "from statsmodels.stats.outliers_influence import variance_inflation_factor\n",
    "from sklearn.model_selection import train_test_split\n",
    "from sklearn import metrics\n",
    "from statsmodels.formula.api import ols\n",
    "\n",
    "pd.set_option('display.max_columns', 999)\n",
    "pd.set_option('display.max_rows', 999)"
   ]
  },
  {
   "cell_type": "code",
   "execution_count": 2,
   "metadata": {
    "ExecuteTime": {
     "end_time": "2021-01-19T18:59:19.105648Z",
     "start_time": "2021-01-19T18:59:19.013287Z"
    }
   },
   "outputs": [],
   "source": [
    "# Reading in training dataset\n",
    "train = pd.read_csv('./output/train_clean.csv')"
   ]
  },
  {
   "cell_type": "code",
   "execution_count": 3,
   "metadata": {
    "ExecuteTime": {
     "end_time": "2021-01-19T18:59:19.191939Z",
     "start_time": "2021-01-19T18:59:19.122875Z"
    }
   },
   "outputs": [],
   "source": [
    "# Feature engineering to make matrix more efficient\n",
    "\n",
    "train['cond*qual'] = train['overall_cond'] * train['overall_qual']\n",
    "\n",
    "#Total 1st and 2nd floor square feet\n",
    "train['total_1st_2nd_floor_sf'] = train['1st_flr_sf'] + train['2nd_flr_sf']\n",
    "train.drop(columns=['1st_flr_sf', '2nd_flr_sf'], inplace=True)\n",
    "\n",
    "#Total number of bathrooms (not in basement)\n",
    "train['total_bath'] = train['full_bath'] + (train['half_bath'] * 0.5)\n",
    "train.drop(columns=['full_bath', 'half_bath'], inplace=True)\n",
    "\n",
    "#Total number of basement bathrooms\n",
    "bsmt_half = train['bsmt_half_bath'] * 0.5\n",
    "train['bsmt_total_bath'] = train['bsmt_full_bath'] + (bsmt_half)\n",
    "train.drop(columns=['bsmt_full_bath', 'bsmt_half_bath'], inplace=True)"
   ]
  },
  {
   "cell_type": "code",
   "execution_count": 4,
   "metadata": {
    "ExecuteTime": {
     "end_time": "2021-01-19T18:59:19.276054Z",
     "start_time": "2021-01-19T18:59:19.264925Z"
    }
   },
   "outputs": [],
   "source": [
    "# Removing variables that are problematic\n",
    "var_removal = ['pid', 'saleprice', 'log_saleprice', 'ms_subclass']"
   ]
  },
  {
   "cell_type": "code",
   "execution_count": 5,
   "metadata": {
    "ExecuteTime": {
     "end_time": "2021-01-19T18:59:19.291752Z",
     "start_time": "2021-01-19T18:59:19.282865Z"
    }
   },
   "outputs": [],
   "source": [
    "# Setting my X variables to numeric columns\n",
    "\n",
    "#x_test_vars = train._get_numeric_data().columns.drop(var_removal).to_list()\n",
    "x_vars = train._get_numeric_data().columns.drop(var_removal).to_list()"
   ]
  },
  {
   "cell_type": "code",
   "execution_count": 6,
   "metadata": {
    "ExecuteTime": {
     "end_time": "2021-01-19T18:59:19.306022Z",
     "start_time": "2021-01-19T18:59:19.294969Z"
    }
   },
   "outputs": [],
   "source": [
    "# Taken from my lab 3.01 metrics function\n",
    "\n",
    "def create_metrics(y_test, y_prediction):\n",
    "    '''Returns 7 important metrics for assessing model performance: Mean Squared Error(MSE),\n",
    "    Root-Mean-Squared-Error(RMSE), Mean-Absolute-Error(MAE), R² or Coefficient of Determination,\n",
    "    Adjusted R², SSE, and Max error\n",
    "    ---\n",
    "    Parameters\n",
    "    \n",
    "    y_test: Sale price in y test sample\n",
    "    y_prediction: Sale price predicted by my model\n",
    "    '''\n",
    "    \n",
    "    #model = model_type\n",
    "    #model.fit(X,y)\n",
    "    y = y_test\n",
    "    y_hat = y_prediction\n",
    "    \n",
    "    mse = metrics.mean_squared_error(y, y_hat)\n",
    "    rmse = np.sqrt(mse)\n",
    "    mae = metrics.mean_absolute_error(y, y_hat)\n",
    "    r2 = metrics.r2_score(y, y_hat)\n",
    "    sse = ((y - y_hat) ** 2).sum()\n",
    "    max_error = metrics.max_error(y, y_hat)\n",
    "    \n",
    "    print(f'The mean squared error is {mse}',\n",
    "    f'The root mean squared error is {rmse}', \n",
    "    f'The mean absolute error is {mae}',\n",
    "    f'The r2 is {r2}', \n",
    "    f'The sse is {sse}', \n",
    "    f'The max error is {max_error}', sep = '\\n')\n"
   ]
  },
  {
   "cell_type": "markdown",
   "metadata": {},
   "source": [
    "## Baseline\n",
    "\n",
    "It is critical to compare potential production models against the predictive accuracy of a baseline model. For linear regression, the baseline model is created by fitting all of our predictors against the mean y value (result of predictors). In this case, the result variable is the sale price, so our baseline model measures how well we can predict the mean of all the sale prices. "
   ]
  },
  {
   "cell_type": "code",
   "execution_count": 7,
   "metadata": {
    "ExecuteTime": {
     "end_time": "2021-01-19T18:59:19.326592Z",
     "start_time": "2021-01-19T18:59:19.317744Z"
    }
   },
   "outputs": [],
   "source": [
    "# Creating baseline X and y set\n",
    "X_1 = train[x_vars]\n",
    "y_1 = train['saleprice']"
   ]
  },
  {
   "cell_type": "code",
   "execution_count": 8,
   "metadata": {
    "ExecuteTime": {
     "end_time": "2021-01-19T18:59:19.357044Z",
     "start_time": "2021-01-19T18:59:19.341711Z"
    }
   },
   "outputs": [],
   "source": [
    "# Split train testing baseline data\n",
    "X_train_1, X_test_1, y_train_1, y_test_1 = train_test_split(X_1, y_1, test_size=0.2, random_state=73)"
   ]
  },
  {
   "cell_type": "code",
   "execution_count": 9,
   "metadata": {
    "ExecuteTime": {
     "end_time": "2021-01-19T18:59:19.374519Z",
     "start_time": "2021-01-19T18:59:19.368704Z"
    }
   },
   "outputs": [],
   "source": [
    "# Instantiating DummyRegressor, which generates predictions based on mean of sale price\n",
    "\n",
    "dr = DummyRegressor()"
   ]
  },
  {
   "cell_type": "code",
   "execution_count": 10,
   "metadata": {
    "ExecuteTime": {
     "end_time": "2021-01-19T18:59:19.409832Z",
     "start_time": "2021-01-19T18:59:19.389080Z"
    }
   },
   "outputs": [],
   "source": [
    "# Fitting DummyRegressor to training data \n",
    "\n",
    "dr.fit(X_train_1, y_train_1)\n",
    "prediction_1 = dr.predict(X_test_1)"
   ]
  },
  {
   "cell_type": "code",
   "execution_count": 11,
   "metadata": {
    "ExecuteTime": {
     "end_time": "2021-01-19T18:59:19.424909Z",
     "start_time": "2021-01-19T18:59:19.417688Z"
    }
   },
   "outputs": [
    {
     "name": "stdout",
     "output_type": "stream",
     "text": [
      "The mean squared error is 6016994351.385935\n",
      "The root mean squared error is 77569.28742347666\n",
      "The mean absolute error is 55984.58167451846\n",
      "The r2 is -0.01090799323090108\n",
      "The sse is 2466967684068.2334\n",
      "The max error is 404536.16931540344\n"
     ]
    }
   ],
   "source": [
    "# Creating metrics for baseline model\n",
    "\n",
    "create_metrics(y_test_1, prediction_1)"
   ]
  },
  {
   "cell_type": "markdown",
   "metadata": {},
   "source": [
    "## Linear Regression with Feature Selection\n",
    "\n",
    "I utilize this model to measure the effect of multi-collinearity and recursive feature selection on the predictive ability of a standard linear regression model. I throw out all features with a variance inflation factor greater than 10 and then utilize the sklearn's recursive feature eliminator to automatically features most predictive of sale price. My model with the largest amount of features that have VIF less than 10 has an R2 value of 0.879. While not as predictive as subsequent models, the process of eliminating multicollinear features would make the individual linear regression slope coefficients for each of these predictors more interpretable than other models that allow these features to stay in them.\n",
    "\n",
    "The recursive feature eliminator would be very effective for determining a number of features that are most important for determining the sale price.  "
   ]
  },
  {
   "cell_type": "code",
   "execution_count": 12,
   "metadata": {
    "ExecuteTime": {
     "end_time": "2021-01-19T18:59:21.598125Z",
     "start_time": "2021-01-19T18:59:19.429939Z"
    },
    "scrolled": true
   },
   "outputs": [
    {
     "name": "stderr",
     "output_type": "stream",
     "text": [
      "/Users/johnnybex/opt/anaconda3/lib/python3.8/site-packages/statsmodels/stats/outliers_influence.py:193: RuntimeWarning: divide by zero encountered in double_scalars\n",
      "  vif = 1. / (1. - r_squared_i)\n"
     ]
    }
   ],
   "source": [
    "# Creating variance inflation factor dataframe utilizing features in my X variable \n",
    "\n",
    "vif = pd.DataFrame()\n",
    "vif['vif_factor'] = [variance_inflation_factor(train[x_vars].values, i) \n",
    "                     for i in range(train[x_vars].shape[1])]\n",
    "vif['features'] = x_vars "
   ]
  },
  {
   "cell_type": "code",
   "execution_count": 13,
   "metadata": {
    "ExecuteTime": {
     "end_time": "2021-01-19T18:59:21.617201Z",
     "start_time": "2021-01-19T18:59:21.600099Z"
    }
   },
   "outputs": [],
   "source": [
    "# Creating list of columns that have VIF less than 10\n",
    "\n",
    "refined_columns = (vif[vif['vif_factor'] <= 10])['features'].to_list()"
   ]
  },
  {
   "cell_type": "code",
   "execution_count": 14,
   "metadata": {
    "ExecuteTime": {
     "end_time": "2021-01-19T18:59:21.625949Z",
     "start_time": "2021-01-19T18:59:21.622297Z"
    }
   },
   "outputs": [],
   "source": [
    "# Instantiating Linear regresion model \n",
    "lm = LinearRegression()\n"
   ]
  },
  {
   "cell_type": "code",
   "execution_count": 15,
   "metadata": {
    "ExecuteTime": {
     "end_time": "2021-01-19T18:59:21.655436Z",
     "start_time": "2021-01-19T18:59:21.633351Z"
    }
   },
   "outputs": [],
   "source": [
    "# Utilizing recursive feature eliminator to determine the impact the number of \n",
    "# features has on the overlal predictive ability. \n",
    "\n",
    "rfe = RFE(lm, n_features_to_select=57)\n",
    "rfe.fit(train[refined_columns], train['saleprice'])\n",
    "rfe_df = pd.DataFrame({'RFE Coef_': rfe.ranking_, 'Feature': refined_columns})"
   ]
  },
  {
   "cell_type": "code",
   "execution_count": 16,
   "metadata": {
    "ExecuteTime": {
     "end_time": "2021-01-19T18:59:21.667820Z",
     "start_time": "2021-01-19T18:59:21.659916Z"
    }
   },
   "outputs": [],
   "source": [
    "# Creating dataframe of most important features \n",
    "\n",
    "rfe_columns = rfe_df[rfe_df['RFE Coef_'] == 1]['Feature'].to_list()"
   ]
  },
  {
   "cell_type": "code",
   "execution_count": 17,
   "metadata": {
    "ExecuteTime": {
     "end_time": "2021-01-19T18:59:21.680809Z",
     "start_time": "2021-01-19T18:59:21.672964Z"
    }
   },
   "outputs": [],
   "source": [
    "# Creating predictors and result variable\n",
    "\n",
    "X_2 = train[rfe_columns]\n",
    "y_2 = train['saleprice']"
   ]
  },
  {
   "cell_type": "code",
   "execution_count": 18,
   "metadata": {
    "ExecuteTime": {
     "end_time": "2021-01-19T18:59:21.691362Z",
     "start_time": "2021-01-19T18:59:21.683069Z"
    }
   },
   "outputs": [],
   "source": [
    "# Train test splitting \n",
    "\n",
    "X_train_2, X_test_2, y_train_2, y_test_2 = train_test_split(X_2, y_2, test_size=0.2, random_state=73)"
   ]
  },
  {
   "cell_type": "code",
   "execution_count": 19,
   "metadata": {
    "ExecuteTime": {
     "end_time": "2021-01-19T18:59:21.708668Z",
     "start_time": "2021-01-19T18:59:21.694324Z"
    }
   },
   "outputs": [],
   "source": [
    "# Power transformation of Sale Price that was justified in Cleaning and EDA Notebook\n",
    "\n",
    "y_train_log_2 = y_train_2.map(np.log)\n",
    "y_test_log_2 = y_test_2.map(np.log)"
   ]
  },
  {
   "cell_type": "code",
   "execution_count": 20,
   "metadata": {
    "ExecuteTime": {
     "end_time": "2021-01-19T18:59:21.731152Z",
     "start_time": "2021-01-19T18:59:21.711319Z"
    }
   },
   "outputs": [
    {
     "data": {
      "text/plain": [
       "LinearRegression()"
      ]
     },
     "execution_count": 20,
     "metadata": {},
     "output_type": "execute_result"
    }
   ],
   "source": [
    "# Instantiating linear regression and fitting to predictors and sale price \n",
    "\n",
    "lr = LinearRegression()\n",
    "lr.fit(X_train_2, y_train_log_2)"
   ]
  },
  {
   "cell_type": "code",
   "execution_count": 21,
   "metadata": {
    "ExecuteTime": {
     "end_time": "2021-01-19T18:59:21.758439Z",
     "start_time": "2021-01-19T18:59:21.741887Z"
    }
   },
   "outputs": [],
   "source": [
    "# Calculating the predicted sale price and residuals from linear regression\n",
    "\n",
    "prediction_2 = lr.predict(X_test_2)\n",
    "residuals_2 = y_test_log_2 - prediction_2\n",
    "pred_prices_2 = np.exp(prediction_2)"
   ]
  },
  {
   "cell_type": "code",
   "execution_count": 22,
   "metadata": {
    "ExecuteTime": {
     "end_time": "2021-01-19T18:59:21.776300Z",
     "start_time": "2021-01-19T18:59:21.761661Z"
    }
   },
   "outputs": [
    {
     "name": "stdout",
     "output_type": "stream",
     "text": [
      "The mean squared error is 766512177.5624346\n",
      "The root mean squared error is 27685.956323783266\n",
      "The mean absolute error is 19892.484321611646\n",
      "The r2 is 0.8712192097989577\n",
      "The sse is 314269992800.59814\n",
      "The max error is 162077.84245151374\n"
     ]
    }
   ],
   "source": [
    "# Creating metrics for model comparison \n",
    "\n",
    "create_metrics(y_test_2, pred_prices_2)"
   ]
  },
  {
   "cell_type": "markdown",
   "metadata": {},
   "source": [
    "|Number of Features|R2|\n",
    "|---|---|\n",
    "|10|0.7938|\n",
    "|20|0.8507|\n",
    "|30|0.8527|\n",
    "|40|0.8547|\n",
    "|50|0.8710|\n",
    "|57|0.8793|\n"
   ]
  },
  {
   "cell_type": "code",
   "execution_count": 23,
   "metadata": {
    "ExecuteTime": {
     "end_time": "2021-01-19T18:59:22.160520Z",
     "start_time": "2021-01-19T18:59:21.817281Z"
    }
   },
   "outputs": [
    {
     "data": {
      "image/png": "[encoded data removed]",
      "text/plain": [
       "<Figure size 432x288 with 1 Axes>"
      ]
     },
     "metadata": {
      "needs_background": "light"
     },
     "output_type": "display_data"
    }
   ],
   "source": [
    "plt.scatter(x=pred_prices_2, y=residuals_2)\n",
    "plt.xlabel('Predicted Prices ($)')\n",
    "plt.ylabel('Residuals')\n",
    "plt.title('Equal Variance of Residuals');"
   ]
  },
  {
   "cell_type": "markdown",
   "metadata": {},
   "source": [
    "While the variance is not perfectly homoscedastic, the plot above shows a fairly equal variance in residuals that proves the efficacy of my model. "
   ]
  },
  {
   "cell_type": "markdown",
   "metadata": {},
   "source": [
    "## Overfit Linear Regression\n",
    "\n",
    "My overfit linear regression model utilizes all 93 numerical features that are present from my pre-processing and data cleaning stage. This model has a very high R2, but the prevalence of multicollinearity throughout the model would make the interpretation of each individual slope in my linear regression impossible. This model would also not generalize well to any other home appraisal checklist due to the overfit nature. "
   ]
  },
  {
   "cell_type": "code",
   "execution_count": 24,
   "metadata": {
    "ExecuteTime": {
     "end_time": "2021-01-19T18:59:22.169139Z",
     "start_time": "2021-01-19T18:59:22.164322Z"
    }
   },
   "outputs": [],
   "source": [
    "# Creating predictors and predictor result variable \n",
    "\n",
    "X_3 = train[x_vars]\n",
    "y_3 = train['saleprice']"
   ]
  },
  {
   "cell_type": "code",
   "execution_count": 25,
   "metadata": {
    "ExecuteTime": {
     "end_time": "2021-01-19T18:59:22.185026Z",
     "start_time": "2021-01-19T18:59:22.174259Z"
    }
   },
   "outputs": [],
   "source": [
    "# Test train splitting preictors and predictor results\n",
    "\n",
    "X_train_3, X_test_3, y_train_3, y_test_3 = train_test_split(X_3, y_3, test_size=0.2, random_state=73)"
   ]
  },
  {
   "cell_type": "code",
   "execution_count": 26,
   "metadata": {
    "ExecuteTime": {
     "end_time": "2021-01-19T18:59:22.201606Z",
     "start_time": "2021-01-19T18:59:22.190690Z"
    }
   },
   "outputs": [],
   "source": [
    "# Power transformation of Sale Price \n",
    "\n",
    "y_train_log_3 = y_train_3.map(np.log)\n",
    "y_test_log_3 = y_test_3.map(np.log)"
   ]
  },
  {
   "cell_type": "code",
   "execution_count": 27,
   "metadata": {
    "ExecuteTime": {
     "end_time": "2021-01-19T18:59:22.257767Z",
     "start_time": "2021-01-19T18:59:22.203967Z"
    }
   },
   "outputs": [
    {
     "data": {
      "text/plain": [
       "LinearRegression()"
      ]
     },
     "execution_count": 27,
     "metadata": {},
     "output_type": "execute_result"
    }
   ],
   "source": [
    "# Instantiating Linear Regression and fitting to my training data\n",
    "lr_2 = LinearRegression()\n",
    "lr_2.fit(X_train_3, y_train_log_3)"
   ]
  },
  {
   "cell_type": "code",
   "execution_count": 28,
   "metadata": {
    "ExecuteTime": {
     "end_time": "2021-01-19T18:59:22.313565Z",
     "start_time": "2021-01-19T18:59:22.261691Z"
    }
   },
   "outputs": [],
   "source": [
    "# Pedictions and residuals from this linear regression model \n",
    "prediction_3 = lr_2.predict(X_test_3)\n",
    "residuals_3 = y_test_log_3 - prediction_3\n",
    "pred_prices_3 = np.exp(prediction_3)"
   ]
  },
  {
   "cell_type": "code",
   "execution_count": 29,
   "metadata": {
    "ExecuteTime": {
     "end_time": "2021-01-19T18:59:22.329294Z",
     "start_time": "2021-01-19T18:59:22.319840Z"
    }
   },
   "outputs": [
    {
     "name": "stdout",
     "output_type": "stream",
     "text": [
      "The mean squared error is 409939070.28569543\n",
      "The root mean squared error is 20246.952123361567\n",
      "The mean absolute error is 13762.140025958019\n",
      "The r2 is 0.9311266292290935\n",
      "The sse is 168075018817.13513\n",
      "The max error is 141966.6309033331\n"
     ]
    }
   ],
   "source": [
    "# Linear regression metrics \n",
    "\n",
    "create_metrics(y_test_3, pred_prices_3)"
   ]
  },
  {
   "cell_type": "code",
   "execution_count": 30,
   "metadata": {
    "ExecuteTime": {
     "end_time": "2021-01-19T18:59:22.611277Z",
     "start_time": "2021-01-19T18:59:22.340526Z"
    }
   },
   "outputs": [
    {
     "data": {
      "image/png": "[encoded data removed]",
      "text/plain": [
       "<Figure size 432x288 with 1 Axes>"
      ]
     },
     "metadata": {
      "needs_background": "light"
     },
     "output_type": "display_data"
    }
   ],
   "source": [
    "plt.scatter(x=pred_prices_3, y=residuals_3)\n",
    "plt.xlabel('Predicted Prices ($)')\n",
    "plt.ylabel('Residuals')\n",
    "plt.title('Equal Variance of Residuals');"
   ]
  },
  {
   "cell_type": "markdown",
   "metadata": {},
   "source": [
    "The variance in this model is even smaller than the past, however there is still a heterscedastic pattern in the residuals. "
   ]
  },
  {
   "cell_type": "markdown",
   "metadata": {
    "ExecuteTime": {
     "end_time": "2021-01-19T14:29:26.393342Z",
     "start_time": "2021-01-19T14:29:26.389914Z"
    }
   },
   "source": [
    "## Linear Regression with Lasso (L1) Regularization\n",
    "\n",
    "Lasso regularization simplifies our model, reducing variance bias, through the L1 penalty coefficient. This coefficient will take the slop of some features down to zero, thus creating a more sparse set of features to work with. \n",
    "\n",
    "To perform lasso regularization, we need to standard scale the predictors to their (transform predictor values into their z-score value). By doing so, we can accurately compare the different features, which may have variable units otherwise. "
   ]
  },
  {
   "cell_type": "code",
   "execution_count": 31,
   "metadata": {
    "ExecuteTime": {
     "end_time": "2021-01-19T18:59:22.658653Z",
     "start_time": "2021-01-19T18:59:22.618690Z"
    }
   },
   "outputs": [],
   "source": [
    "# Standard Sclaing the full predictor training abnd test sets\n",
    "ssc = StandardScaler()\n",
    "\n",
    "# Utilizing previous test train split because I am using all of the features\n",
    "# In my lasso regression\n",
    "\n",
    "Z_train = ssc.fit_transform(X_train_3)\n",
    "Z_test = ssc.transform(X_test_3)"
   ]
  },
  {
   "cell_type": "code",
   "execution_count": 32,
   "metadata": {
    "ExecuteTime": {
     "end_time": "2021-01-19T18:59:23.548201Z",
     "start_time": "2021-01-19T18:59:22.663856Z"
    }
   },
   "outputs": [],
   "source": [
    "# creating list of potential alphas for lasso regularization\n",
    "lasso_alphas = np.logspace(0,3,100)\n",
    "\n",
    "# utilizing LassoCV which has built-in 5 fold cross-validation for determing\n",
    "# the best alpha values for each feature.\n",
    "lasso = LassoCV(alphas=lasso_alphas, cv=5, max_iter=50000)\n",
    "\n",
    "#Fitting lasso model \n",
    "lasso.fit(Z_train, y_train_3);"
   ]
  },
  {
   "cell_type": "code",
   "execution_count": 33,
   "metadata": {
    "ExecuteTime": {
     "end_time": "2021-01-19T18:59:23.558287Z",
     "start_time": "2021-01-19T18:59:23.551024Z"
    }
   },
   "outputs": [],
   "source": [
    "# Creating DataFrame with each lasso coefficient per feature\n",
    "lasso_coef = pd.DataFrame({'lasso.coef_':lasso.coef_, 'features': x_vars})"
   ]
  },
  {
   "cell_type": "code",
   "execution_count": 34,
   "metadata": {
    "ExecuteTime": {
     "end_time": "2021-01-19T18:59:23.575268Z",
     "start_time": "2021-01-19T18:59:23.565251Z"
    }
   },
   "outputs": [],
   "source": [
    "# Creating list of lasso features with coefficients > 0, i.e. features\n",
    "# regularization deemed important. \n",
    "\n",
    "lasso_feats = lasso_coef[lasso_coef['lasso.coef_'] != 0]['features'].to_list()"
   ]
  },
  {
   "cell_type": "code",
   "execution_count": 35,
   "metadata": {
    "ExecuteTime": {
     "end_time": "2021-01-19T18:59:23.590126Z",
     "start_time": "2021-01-19T18:59:23.577623Z"
    }
   },
   "outputs": [],
   "source": [
    "# Predicted values from lasso regularization linear regression \n",
    "lasso_predicts = lasso.predict(Z_test)"
   ]
  },
  {
   "cell_type": "code",
   "execution_count": 36,
   "metadata": {
    "ExecuteTime": {
     "end_time": "2021-01-19T18:59:23.607995Z",
     "start_time": "2021-01-19T18:59:23.595747Z"
    }
   },
   "outputs": [
    {
     "name": "stdout",
     "output_type": "stream",
     "text": [
      "The mean squared error is 569471521.1498337\n",
      "The root mean squared error is 23863.602434457243\n",
      "The mean absolute error is 16233.254483546589\n",
      "The r2 is 0.904323773793285\n",
      "The sse is 233483323671.4318\n",
      "The max error is 150867.60489734414\n"
     ]
    }
   ],
   "source": [
    "# Metrics for comparing models\n",
    "create_metrics(y_test_3, lasso_predicts)"
   ]
  },
  {
   "cell_type": "code",
   "execution_count": 37,
   "metadata": {
    "ExecuteTime": {
     "end_time": "2021-01-19T18:59:23.622030Z",
     "start_time": "2021-01-19T18:59:23.615298Z"
    }
   },
   "outputs": [],
   "source": [
    "# Calculating residuals \n",
    "\n",
    "lasso_residuals = y_test_3 - lasso_predicts"
   ]
  },
  {
   "cell_type": "code",
   "execution_count": 38,
   "metadata": {
    "ExecuteTime": {
     "end_time": "2021-01-19T18:59:23.930803Z",
     "start_time": "2021-01-19T18:59:23.625712Z"
    }
   },
   "outputs": [
    {
     "data": {
      "text/plain": [
       "Text(0.5, 1.0, 'Equal Variance of Residuals')"
      ]
     },
     "execution_count": 38,
     "metadata": {},
     "output_type": "execute_result"
    },
    {
     "data": {
      "image/png": "[encoded data removed]",
      "text/plain": [
       "<Figure size 432x288 with 1 Axes>"
      ]
     },
     "metadata": {
      "needs_background": "light"
     },
     "output_type": "display_data"
    }
   ],
   "source": [
    "plt.scatter(x=lasso_predicts, y=lasso_residuals)\n",
    "plt.xlabel('Predicted Prices ($)')\n",
    "plt.ylabel('Residuals')\n",
    "plt.title('Equal Variance of Residuals')"
   ]
  },
  {
   "cell_type": "markdown",
   "metadata": {},
   "source": [
    "The variance in residual values is more homoscedastic than the previous linear regressions, however there is a larger range of residuals. This range in residuals is responsible for the lower R2 than the overfit linear regression."
   ]
  },
  {
   "cell_type": "markdown",
   "metadata": {},
   "source": [
    "## Linear Regression with Ridge (L2) Regularization \n",
    "\n",
    "Ridge regression utilizes L2 regularization to adjust feature slope coefficient values. However, it does not reduce unimportant features to 0 like lasso, and thus results in a more dense predictor matrix with slightly less interpretability than the lasso regularization linear regression. However, it also results in less bias. "
   ]
  },
  {
   "cell_type": "code",
   "execution_count": 39,
   "metadata": {
    "ExecuteTime": {
     "end_time": "2021-01-19T18:59:25.774111Z",
     "start_time": "2021-01-19T18:59:23.946106Z"
    }
   },
   "outputs": [],
   "source": [
    "# Cross validating the ridge alpha (L2) penalty facot\n",
    "ridge_alpha = np.logspace(0, 70, 100)\n",
    "ridge_cv = RidgeCV(alphas=ridge_alpha, scoring='r2', cv=5)\n",
    "\n",
    "# Fitting the resulting Ridge Regularization model \n",
    "ridge_cv.fit(Z_train, y_train_3);\n"
   ]
  },
  {
   "cell_type": "code",
   "execution_count": 40,
   "metadata": {
    "ExecuteTime": {
     "end_time": "2021-01-19T18:59:25.781244Z",
     "start_time": "2021-01-19T18:59:25.775774Z"
    }
   },
   "outputs": [],
   "source": [
    "ridge_predicts = ridge_cv.predict(Z_test)"
   ]
  },
  {
   "cell_type": "code",
   "execution_count": 41,
   "metadata": {
    "ExecuteTime": {
     "end_time": "2021-01-19T18:59:25.791182Z",
     "start_time": "2021-01-19T18:59:25.787516Z"
    }
   },
   "outputs": [],
   "source": [
    "ridge_residuals = y_test_3 - ridge_predicts"
   ]
  },
  {
   "cell_type": "code",
   "execution_count": 42,
   "metadata": {
    "ExecuteTime": {
     "end_time": "2021-01-19T18:59:25.806660Z",
     "start_time": "2021-01-19T18:59:25.796982Z"
    }
   },
   "outputs": [
    {
     "name": "stdout",
     "output_type": "stream",
     "text": [
      "The mean squared error is 561025900.5936159\n",
      "The root mean squared error is 23685.98532030314\n",
      "The mean absolute error is 16207.840307816243\n",
      "The r2 is 0.9057427123578707\n",
      "The sse is 230020619243.3825\n",
      "The max error is 150163.0106209644\n"
     ]
    }
   ],
   "source": [
    "create_metrics(y_test_3, ridge_predicts)"
   ]
  },
  {
   "cell_type": "code",
   "execution_count": 43,
   "metadata": {
    "ExecuteTime": {
     "end_time": "2021-01-19T18:59:26.122352Z",
     "start_time": "2021-01-19T18:59:25.811448Z"
    }
   },
   "outputs": [
    {
     "data": {
      "text/plain": [
       "Text(0.5, 1.0, 'Equal Variance of Residuals')"
      ]
     },
     "execution_count": 43,
     "metadata": {},
     "output_type": "execute_result"
    },
    {
     "data": {
      "image/png": "[encoded data removed]",
      "text/plain": [
       "<Figure size 432x288 with 1 Axes>"
      ]
     },
     "metadata": {
      "needs_background": "light"
     },
     "output_type": "display_data"
    }
   ],
   "source": [
    "plt.scatter(x=ridge_predicts, y=ridge_residuals)\n",
    "plt.xlabel('Predicted Prices ($)')\n",
    "plt.ylabel('Residuals')\n",
    "plt.title('Equal Variance of Residuals')"
   ]
  },
  {
   "cell_type": "code",
   "execution_count": null,
   "metadata": {},
   "outputs": [],
   "source": []
  },
  {
   "cell_type": "markdown",
   "metadata": {},
   "source": [
    "## Linear Regression with Lasso Features\n",
    "\n",
    "My final model utilizes the list of features deemed important by the lasso regularization and inputs those features as my predictors for a standardized linear regression. "
   ]
  },
  {
   "cell_type": "code",
   "execution_count": 44,
   "metadata": {
    "ExecuteTime": {
     "end_time": "2021-01-19T18:59:26.138416Z",
     "start_time": "2021-01-19T18:59:26.128868Z"
    }
   },
   "outputs": [],
   "source": [
    "X_4 = train[lasso_feats]\n",
    "y_4 = train['saleprice']"
   ]
  },
  {
   "cell_type": "code",
   "execution_count": 45,
   "metadata": {
    "ExecuteTime": {
     "end_time": "2021-01-19T18:59:26.153400Z",
     "start_time": "2021-01-19T18:59:26.141181Z"
    }
   },
   "outputs": [],
   "source": [
    "X_train_4, X_test_4, y_train_4, y_test_4 = train_test_split(X_4, y_4, test_size=0.2, random_state=73)"
   ]
  },
  {
   "cell_type": "code",
   "execution_count": 46,
   "metadata": {
    "ExecuteTime": {
     "end_time": "2021-01-19T18:59:26.178450Z",
     "start_time": "2021-01-19T18:59:26.160291Z"
    }
   },
   "outputs": [],
   "source": [
    "y_train_log_4 = y_train_4.map(np.log)\n",
    "y_test_log_4 = y_test_4.map(np.log)"
   ]
  },
  {
   "cell_type": "code",
   "execution_count": 47,
   "metadata": {
    "ExecuteTime": {
     "end_time": "2021-01-19T18:59:26.222533Z",
     "start_time": "2021-01-19T18:59:26.182316Z"
    }
   },
   "outputs": [
    {
     "data": {
      "text/plain": [
       "LinearRegression()"
      ]
     },
     "execution_count": 47,
     "metadata": {},
     "output_type": "execute_result"
    }
   ],
   "source": [
    "lr_3 = LinearRegression()\n",
    "lr_3.fit(X_train_4, y_train_log_4)"
   ]
  },
  {
   "cell_type": "code",
   "execution_count": 48,
   "metadata": {
    "ExecuteTime": {
     "end_time": "2021-01-19T18:59:26.244934Z",
     "start_time": "2021-01-19T18:59:26.230313Z"
    }
   },
   "outputs": [],
   "source": [
    "prediction_4 = lr_3.predict(X_test_4)\n",
    "residuals_4 = y_test_log_4 - prediction_4\n",
    "pred_prices_4 = np.exp(prediction_4)"
   ]
  },
  {
   "cell_type": "code",
   "execution_count": 49,
   "metadata": {
    "ExecuteTime": {
     "end_time": "2021-01-19T18:59:26.257530Z",
     "start_time": "2021-01-19T18:59:26.248530Z"
    }
   },
   "outputs": [
    {
     "data": {
      "text/plain": [
       "0.9309073575623363"
      ]
     },
     "execution_count": 49,
     "metadata": {},
     "output_type": "execute_result"
    }
   ],
   "source": [
    "metrics.r2_score(y_test_4, pred_prices_4)"
   ]
  },
  {
   "cell_type": "code",
   "execution_count": 50,
   "metadata": {
    "ExecuteTime": {
     "end_time": "2021-01-19T18:59:26.279183Z",
     "start_time": "2021-01-19T18:59:26.260733Z"
    }
   },
   "outputs": [
    {
     "name": "stdout",
     "output_type": "stream",
     "text": [
      "The mean squared error is 411244190.4243541\n",
      "The root mean squared error is 20279.156551108186\n",
      "The mean absolute error is 13744.460916663153\n",
      "The r2 is 0.9309073575623363\n",
      "The sse is 168610118073.98517\n",
      "The max error is 136893.35085630222\n"
     ]
    }
   ],
   "source": [
    "create_metrics(y_test_4, pred_prices_4)"
   ]
  },
  {
   "cell_type": "code",
   "execution_count": 51,
   "metadata": {
    "ExecuteTime": {
     "end_time": "2021-01-19T18:59:26.514222Z",
     "start_time": "2021-01-19T18:59:26.289597Z"
    }
   },
   "outputs": [
    {
     "data": {
      "image/png": "[encoded data removed]",
      "text/plain": [
       "<Figure size 432x288 with 1 Axes>"
      ]
     },
     "metadata": {
      "needs_background": "light"
     },
     "output_type": "display_data"
    }
   ],
   "source": [
    "plt.scatter(x=pred_prices_4, y=residuals_4)\n",
    "plt.xlabel('Predicted Prices ($)')\n",
    "plt.ylabel('Residuals')\n",
    "plt.title('Equal Variance of Residuals');"
   ]
  },
  {
   "cell_type": "code",
   "execution_count": 52,
   "metadata": {
    "ExecuteTime": {
     "end_time": "2021-01-19T18:59:26.541198Z",
     "start_time": "2021-01-19T18:59:26.530148Z"
    }
   },
   "outputs": [],
   "source": [
    "# More generalizable than overfit line. "
   ]
  },
  {
   "cell_type": "markdown",
   "metadata": {},
   "source": [
    "## Production Algorithm\n",
    "\n",
    "For my final production algorithm, I would choose the standardized linear regression model with lasso features. This algorithm has similar R2 and Root Mean Squared Error (RMSE) values to the overfit linear regression (which has the best values for both), with the addeed benefit of being slightly more generalizable due to the feature reduction. "
   ]
  },
  {
   "cell_type": "markdown",
   "metadata": {},
   "source": [
    "### Why this Algorithm? \n",
    "\n",
    "While the overfit standard linear regression model had the best R2 and Root Mean Squared Error (RMSE) values, they were only marginally better than the linear regression model with lasso features. The added benefit of choosing linear regression with lasso features over the overfit linear regression model is two-fold:\n",
    "\n",
    "* Feature reduction improves the variance error, thus making the model more generalizable to a wider array of Ames Housing datasets. \n",
    "* Feature reduction improves the performance of the model, allowing the predictions to be calculated more efficiently for a larger Ames Housing dataset. \n",
    "\n",
    "Therefore, for an appraiser trying to model housing prices on a large number of Ames houses, the linear regression with lasso features is the ideal production model. "
   ]
  },
  {
   "cell_type": "code",
   "execution_count": null,
   "metadata": {},
   "outputs": [],
   "source": []
  }
 ],
 "metadata": {
  "kernelspec": {
   "display_name": "Python 3",
   "language": "python",
   "name": "python3"
  },
  "language_info": {
   "codemirror_mode": {
    "name": "ipython",
    "version": 3
   },
   "file_extension": ".py",
   "mimetype": "text/x-python",
   "name": "python",
   "nbconvert_exporter": "python",
   "pygments_lexer": "ipython3",
   "version": "3.8.5"
  }
 },
 "nbformat": 4,
 "nbformat_minor": 4
}
