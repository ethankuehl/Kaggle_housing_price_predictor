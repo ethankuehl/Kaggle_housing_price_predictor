{
 "cells": [
  {
   "cell_type": "markdown",
   "metadata": {},
   "source": [
    "# Pre-processing and Modeling\n",
    "\n",
    "In this notebook, my objective is to consolidate some features to make the predictor matrix more rank efficient and then analyze various linear regression models to determine the most accurate prediction algorithm utilizing linear regression. \n",
    "\n",
    "My work flow is as follows:\n",
    "* Create new features to make predictors more rank efficient\n",
    "* Perform  the baseline model (the mean sale price is the result of the predictors)\n",
    "* Perform  linear regression with features filtered by their VIF and Recursive Feature Elimination \n",
    "* Perform  linear regression with an overfit model to all of my features\n",
    "* Perform  linear regression with a lasso (L1) regularized linear regression\n",
    "* Perform linear regression with a Ridge (L2) regularized linear regression\n",
    "* Perform standard linear regression with features identified as significant by lasso regularization\n",
    "* Identify production algorithm\n",
    "    * Defend choice of production algorithm\n",
    "    * Explanation of model\n",
    "    * Performance successes and downfalls"
   ]
  },
  {
   "cell_type": "code",
   "execution_count": 53,
   "metadata": {
    "ExecuteTime": {
     "end_time": "2021-01-19T17:47:55.684297Z",
     "start_time": "2021-01-19T17:47:55.594972Z"
    }
   },
   "outputs": [],
   "source": [
    "import pandas as pd\n",
    "import numpy as np\n",
    "import matplotlib.pyplot as plt\n",
    "import seaborn as sns\n",
    "import math\n",
    "import statsmodels.api as sm\n",
    "\n",
    "from sklearn.linear_model import LinearRegression, LassoCV, RidgeCV\n",
    "from sklearn.dummy import DummyRegressor\n",
    "from sklearn.preprocessing import StandardScaler\n",
    "from sklearn.feature_selection import RFE\n",
    "from statsmodels.stats.outliers_influence import variance_inflation_factor\n",
    "from sklearn.model_selection import train_test_split\n",
    "from sklearn import metrics\n",
    "from statsmodels.formula.api import ols\n",
    "\n",
    "pd.set_option('display.max_columns', 999)\n",
    "pd.set_option('display.max_rows', 999)"
   ]
  },
  {
   "cell_type": "code",
   "execution_count": 54,
   "metadata": {
    "ExecuteTime": {
     "end_time": "2021-01-19T17:47:55.911350Z",
     "start_time": "2021-01-19T17:47:55.691403Z"
    }
   },
   "outputs": [],
   "source": [
    "# Reading in training dataset\n",
    "train = pd.read_csv('./output/train_clean.csv')"
   ]
  },
  {
   "cell_type": "code",
   "execution_count": 55,
   "metadata": {
    "ExecuteTime": {
     "end_time": "2021-01-19T17:47:56.029443Z",
     "start_time": "2021-01-19T17:47:55.962315Z"
    }
   },
   "outputs": [],
   "source": [
    "# Feature engineering to make matrix more efficient\n",
    "\n",
    "train['cond*qual'] = train['overall_cond'] * train['overall_qual']\n",
    "\n",
    "#Total 1st and 2nd floor square feet\n",
    "train['total_1st_2nd_floor_sf'] = train['1st_flr_sf'] + train['2nd_flr_sf']\n",
    "train.drop(columns=['1st_flr_sf', '2nd_flr_sf'], inplace=True)\n",
    "\n",
    "#Total number of bathrooms (not in basement)\n",
    "train['total_bath'] = train['full_bath'] + (train['half_bath'] * 0.5)\n",
    "train.drop(columns=['full_bath', 'half_bath'], inplace=True)\n",
    "\n",
    "#Total number of basement bathrooms\n",
    "bsmt_half = train['bsmt_half_bath'] * 0.5\n",
    "train['bsmt_total_bath'] = train['bsmt_full_bath'] + (bsmt_half)\n",
    "train.drop(columns=['bsmt_full_bath', 'bsmt_half_bath'], inplace=True)"
   ]
  },
  {
   "cell_type": "code",
   "execution_count": 56,
   "metadata": {
    "ExecuteTime": {
     "end_time": "2021-01-19T17:47:56.045326Z",
     "start_time": "2021-01-19T17:47:56.039017Z"
    }
   },
   "outputs": [],
   "source": [
    "# Removing variables that are problematic\n",
    "var_removal = ['pid', 'saleprice', 'log_saleprice', 'ms_subclass']"
   ]
  },
  {
   "cell_type": "code",
   "execution_count": 57,
   "metadata": {
    "ExecuteTime": {
     "end_time": "2021-01-19T17:47:56.069129Z",
     "start_time": "2021-01-19T17:47:56.054597Z"
    }
   },
   "outputs": [],
   "source": [
    "# Setting my X variables to numeric columns\n",
    "\n",
    "#x_test_vars = train._get_numeric_data().columns.drop(var_removal).to_list()\n",
    "x_vars = train._get_numeric_data().columns.drop(var_removal).to_list()"
   ]
  },
  {
   "cell_type": "code",
   "execution_count": 58,
   "metadata": {
    "ExecuteTime": {
     "end_time": "2021-01-19T17:47:56.128483Z",
     "start_time": "2021-01-19T17:47:56.076664Z"
    }
   },
   "outputs": [],
   "source": [
    "# Taken from my lab 3.01 metrics function\n",
    "\n",
    "def create_metrics(y_test, y_prediction):\n",
    "    '''Returns 7 important metrics for assessing model performance: Mean Squared Error(MSE),\n",
    "    Root-Mean-Squared-Error(RMSE), Mean-Absolute-Error(MAE), R² or Coefficient of Determination,\n",
    "    Adjusted R², SSE, and Max error\n",
    "    ---\n",
    "    Parameters\n",
    "    \n",
    "    y_test: Sale price in y test sample\n",
    "    y_prediction: Sale price predicted by my model\n",
    "    '''\n",
    "    \n",
    "    #model = model_type\n",
    "    #model.fit(X,y)\n",
    "    y = y_test\n",
    "    y_hat = y_prediction\n",
    "    \n",
    "    mse = metrics.mean_squared_error(y, y_hat)\n",
    "    rmse = np.sqrt(mse)\n",
    "    mae = metrics.mean_absolute_error(y, y_hat)\n",
    "    r2 = metrics.r2_score(y, y_hat)\n",
    "    sse = ((y - y_hat) ** 2).sum()\n",
    "    max_error = metrics.max_error(y, y_hat)\n",
    "    \n",
    "    print(f'The mean squared error is {mse}',\n",
    "    f'The root mean squared error is {rmse}', \n",
    "    f'The mean absolute error is {mae}',\n",
    "    f'The r2 is {r2}', \n",
    "    f'The sse is {sse}', \n",
    "    f'The max error is {max_error}', sep = '\\n')\n"
   ]
  },
  {
   "cell_type": "markdown",
   "metadata": {},
   "source": [
    "## Baseline\n",
    "\n",
    "It is critical to compare potential production models against the predictive accuracy of a baseline model. For linear regression, the baseline model is created by fitting all of our predictors against the mean y value (result of predictors). In this case, the result variable is the sale price, so our baseline model measures how well we can predict the mean of all the sale prices. "
   ]
  },
  {
   "cell_type": "code",
   "execution_count": 59,
   "metadata": {
    "ExecuteTime": {
     "end_time": "2021-01-19T17:47:56.359187Z",
     "start_time": "2021-01-19T17:47:56.303412Z"
    }
   },
   "outputs": [],
   "source": [
    "# Creating baseline X and y set\n",
    "X_1 = train[x_vars]\n",
    "y_1 = train['saleprice']"
   ]
  },
  {
   "cell_type": "code",
   "execution_count": 60,
   "metadata": {
    "ExecuteTime": {
     "end_time": "2021-01-19T17:47:56.406814Z",
     "start_time": "2021-01-19T17:47:56.386668Z"
    }
   },
   "outputs": [],
   "source": [
    "# Split train testing baseline data\n",
    "X_train_1, X_test_1, y_train_1, y_test_1 = train_test_split(X_1, y_1, test_size=0.2, random_state=73)"
   ]
  },
  {
   "cell_type": "code",
   "execution_count": 61,
   "metadata": {
    "ExecuteTime": {
     "end_time": "2021-01-19T17:47:56.436981Z",
     "start_time": "2021-01-19T17:47:56.423855Z"
    }
   },
   "outputs": [],
   "source": [
    "# Instantiating DummyRegressor, which generates predictions based on mean of sale price\n",
    "\n",
    "dr = DummyRegressor()"
   ]
  },
  {
   "cell_type": "code",
   "execution_count": 62,
   "metadata": {
    "ExecuteTime": {
     "end_time": "2021-01-19T17:47:56.480556Z",
     "start_time": "2021-01-19T17:47:56.455663Z"
    }
   },
   "outputs": [],
   "source": [
    "# Fitting DummyRegressor to training data \n",
    "\n",
    "dr.fit(X_train_1, y_train_1)\n",
    "prediction_1 = dr.predict(X_test_1)"
   ]
  },
  {
   "cell_type": "code",
   "execution_count": 63,
   "metadata": {
    "ExecuteTime": {
     "end_time": "2021-01-19T17:47:56.526041Z",
     "start_time": "2021-01-19T17:47:56.485338Z"
    }
   },
   "outputs": [
    {
     "name": "stdout",
     "output_type": "stream",
     "text": [
      "The mean squared error is 6016994351.385935\n",
      "The root mean squared error is 77569.28742347666\n",
      "The mean absolute error is 55984.58167451846\n",
      "The r2 is -0.01090799323090108\n",
      "The sse is 2466967684068.2334\n",
      "The max error is 404536.16931540344\n"
     ]
    }
   ],
   "source": [
    "# Creating metrics for baseline model\n",
    "\n",
    "create_metrics(y_test_1, prediction_1)"
   ]
  },
  {
   "cell_type": "markdown",
   "metadata": {},
   "source": [
    "## Linear Regression with Feature Selection\n",
    "\n",
    "I utilize this model to measure the effect of multi-collinearity and recursive feature selection on the predictive ability of a standard linear regression model. I throw out all features with a variance inflation factor greater than 10 and then utilize the sklearn's recursive feature eliminator to automatically features most predictive of sale price. My model with the largest amount of features that have VIF less than 10 has an R2 value of 0.879. While not as predictive as subsequent models, the process of eliminating multicollinear features would make the individual linear regression slope coefficients for each of these predictors more interpretable than other models that allow these features to stay in them.\n",
    "\n",
    "The recursive feature eliminator would be very effective for determining a number of features that are most important for determining the sale price.  "
   ]
  },
  {
   "cell_type": "code",
   "execution_count": 64,
   "metadata": {
    "ExecuteTime": {
     "end_time": "2021-01-19T17:48:00.822411Z",
     "start_time": "2021-01-19T17:47:56.611026Z"
    },
    "scrolled": true
   },
   "outputs": [
    {
     "name": "stderr",
     "output_type": "stream",
     "text": [
      "/Users/johnnybex/opt/anaconda3/lib/python3.8/site-packages/statsmodels/stats/outliers_influence.py:193: RuntimeWarning: divide by zero encountered in double_scalars\n",
      "  vif = 1. / (1. - r_squared_i)\n"
     ]
    }
   ],
   "source": [
    "# Creating variance inflation factor dataframe utilizing features in my X variable \n",
    "\n",
    "vif = pd.DataFrame()\n",
    "vif['vif_factor'] = [variance_inflation_factor(train[x_vars].values, i) \n",
    "                     for i in range(train[x_vars].shape[1])]\n",
    "vif['features'] = x_vars "
   ]
  },
  {
   "cell_type": "code",
   "execution_count": 65,
   "metadata": {
    "ExecuteTime": {
     "end_time": "2021-01-19T17:48:00.858680Z",
     "start_time": "2021-01-19T17:48:00.824874Z"
    }
   },
   "outputs": [],
   "source": [
    "# Creating list of columns that have VIF less than 10\n",
    "\n",
    "refined_columns = (vif[vif['vif_factor'] <= 10])['features'].to_list()"
   ]
  },
  {
   "cell_type": "code",
   "execution_count": 66,
   "metadata": {
    "ExecuteTime": {
     "end_time": "2021-01-19T17:48:00.887432Z",
     "start_time": "2021-01-19T17:48:00.873558Z"
    }
   },
   "outputs": [],
   "source": [
    "# Instantiating Linear regresion model \n",
    "lm = LinearRegression()\n"
   ]
  },
  {
   "cell_type": "code",
   "execution_count": 67,
   "metadata": {
    "ExecuteTime": {
     "end_time": "2021-01-19T17:48:00.947940Z",
     "start_time": "2021-01-19T17:48:00.891139Z"
    }
   },
   "outputs": [],
   "source": [
    "# Utilizing recursive feature eliminator to determine the impact the number of \n",
    "# features has on the overlal predictive ability. \n",
    "\n",
    "rfe = RFE(lm, n_features_to_select=57)\n",
    "rfe.fit(train[refined_columns], train['saleprice'])\n",
    "rfe_df = pd.DataFrame({'RFE Coef_': rfe.ranking_, 'Feature': refined_columns})"
   ]
  },
  {
   "cell_type": "code",
   "execution_count": 68,
   "metadata": {
    "ExecuteTime": {
     "end_time": "2021-01-19T17:48:00.966249Z",
     "start_time": "2021-01-19T17:48:00.950569Z"
    }
   },
   "outputs": [],
   "source": [
    "# Creating dataframe of most important features \n",
    "\n",
    "rfe_columns = rfe_df[rfe_df['RFE Coef_'] == 1]['Feature'].to_list()"
   ]
  },
  {
   "cell_type": "code",
   "execution_count": 69,
   "metadata": {
    "ExecuteTime": {
     "end_time": "2021-01-19T17:48:00.991457Z",
     "start_time": "2021-01-19T17:48:00.982067Z"
    }
   },
   "outputs": [],
   "source": [
    "# Creating predictors and result variable\n",
    "\n",
    "X_2 = train[rfe_columns]\n",
    "y_2 = train['saleprice']"
   ]
  },
  {
   "cell_type": "code",
   "execution_count": 70,
   "metadata": {
    "ExecuteTime": {
     "end_time": "2021-01-19T17:48:01.014620Z",
     "start_time": "2021-01-19T17:48:00.999319Z"
    }
   },
   "outputs": [],
   "source": [
    "# Train test splitting \n",
    "\n",
    "X_train_2, X_test_2, y_train_2, y_test_2 = train_test_split(X_2, y_2, test_size=0.2, random_state=73)"
   ]
  },
  {
   "cell_type": "code",
   "execution_count": 71,
   "metadata": {
    "ExecuteTime": {
     "end_time": "2021-01-19T17:48:01.044341Z",
     "start_time": "2021-01-19T17:48:01.022753Z"
    }
   },
   "outputs": [],
   "source": [
    "# Power transformation of Sale Price that was justified in Cleaning and EDA Notebook\n",
    "\n",
    "y_train_log_2 = y_train_2.map(np.log)\n",
    "y_test_log_2 = y_test_2.map(np.log)"
   ]
  },
  {
   "cell_type": "code",
   "execution_count": 72,
   "metadata": {
    "ExecuteTime": {
     "end_time": "2021-01-19T17:48:01.094862Z",
     "start_time": "2021-01-19T17:48:01.051365Z"
    }
   },
   "outputs": [
    {
     "data": {
      "text/plain": [
       "LinearRegression()"
      ]
     },
     "execution_count": 72,
     "metadata": {},
     "output_type": "execute_result"
    }
   ],
   "source": [
    "# Instantiating linear regression and fitting to predictors and sale price \n",
    "\n",
    "lr = LinearRegression()\n",
    "lr.fit(X_train_2, y_train_log_2)"
   ]
  },
  {
   "cell_type": "code",
   "execution_count": 73,
   "metadata": {
    "ExecuteTime": {
     "end_time": "2021-01-19T17:48:01.119962Z",
     "start_time": "2021-01-19T17:48:01.101926Z"
    }
   },
   "outputs": [],
   "source": [
    "# Calculating the predicted sale price and residuals from linear regression\n",
    "\n",
    "prediction_2 = lr.predict(X_test_2)\n",
    "residuals_2 = y_test_log_2 - prediction_2\n",
    "pred_prices_2 = np.exp(prediction_2)"
   ]
  },
  {
   "cell_type": "code",
   "execution_count": 74,
   "metadata": {
    "ExecuteTime": {
     "end_time": "2021-01-19T17:48:01.134587Z",
     "start_time": "2021-01-19T17:48:01.123344Z"
    }
   },
   "outputs": [
    {
     "name": "stdout",
     "output_type": "stream",
     "text": [
      "The mean squared error is 718331261.8891212\n",
      "The root mean squared error is 26801.702593102575\n",
      "The mean absolute error is 19557.457282900123\n",
      "The r2 is 0.8793140275652594\n",
      "The sse is 294515817374.5397\n",
      "The max error is 147639.55347306113\n"
     ]
    }
   ],
   "source": [
    "# Creating metrics for model comparison \n",
    "\n",
    "create_metrics(y_test_2, pred_prices_2)"
   ]
  },
  {
   "cell_type": "markdown",
   "metadata": {},
   "source": [
    "|Number of Features|R2|\n",
    "|---|---|\n",
    "|10|0.7938|\n",
    "|20|0.8507|\n",
    "|30|0.8527|\n",
    "|40|0.8547|\n",
    "|50|0.8710|\n",
    "|57|0.8793|\n"
   ]
  },
  {
   "cell_type": "code",
   "execution_count": 75,
   "metadata": {
    "ExecuteTime": {
     "end_time": "2021-01-19T17:48:01.714967Z",
     "start_time": "2021-01-19T17:48:01.138289Z"
    }
   },
   "outputs": [
    {
     "data": {
      "image/png": "[encoded data removed]",
      "text/plain": [
       "<Figure size 432x288 with 1 Axes>"
      ]
     },
     "metadata": {
      "needs_background": "light"
     },
     "output_type": "display_data"
    }
   ],
   "source": [
    "plt.scatter(x=pred_prices_2, y=residuals_2)\n",
    "plt.xlabel('Predicted Prices ($)')\n",
    "plt.ylabel('Residuals')\n",
    "plt.title('Equal Variance of Residuals');"
   ]
  },
  {
   "cell_type": "markdown",
   "metadata": {},
   "source": [
    "While the variance is not perfectly homoscedastic, the plot above shows a fairly equal variance in residuals that proves the efficacy of my model. "
   ]
  },
  {
   "cell_type": "markdown",
   "metadata": {},
   "source": [
    "## Overfit Linear Regression\n",
    "\n",
    "My overfit linear regression model utilizes all 93 numerical features that are present from my pre-processing and data cleaning stage. This model has a very high R2, but the prevalence of multicollinearity throughout the model would make the interpretation of each individual slope in my linear regression impossible. This model would also not generalize well to any other home appraisal checklist due to the overfit nature. "
   ]
  },
  {
   "cell_type": "code",
   "execution_count": 76,
   "metadata": {
    "ExecuteTime": {
     "end_time": "2021-01-19T17:48:01.734914Z",
     "start_time": "2021-01-19T17:48:01.718168Z"
    }
   },
   "outputs": [],
   "source": [
    "# Creating predictors and predictor result variable \n",
    "\n",
    "X_3 = train[x_vars]\n",
    "y_3 = train['saleprice']"
   ]
  },
  {
   "cell_type": "code",
   "execution_count": 77,
   "metadata": {
    "ExecuteTime": {
     "end_time": "2021-01-19T17:48:01.755684Z",
     "start_time": "2021-01-19T17:48:01.739282Z"
    }
   },
   "outputs": [],
   "source": [
    "# Test train splitting preictors and predictor results\n",
    "\n",
    "X_train_3, X_test_3, y_train_3, y_test_3 = train_test_split(X_3, y_3, test_size=0.2, random_state=73)"
   ]
  },
  {
   "cell_type": "code",
   "execution_count": 78,
   "metadata": {
    "ExecuteTime": {
     "end_time": "2021-01-19T17:48:01.785069Z",
     "start_time": "2021-01-19T17:48:01.758416Z"
    }
   },
   "outputs": [],
   "source": [
    "# Power transformation of Sale Price \n",
    "\n",
    "y_train_log_3 = y_train_3.map(np.log)\n",
    "y_test_log_3 = y_test_3.map(np.log)"
   ]
  },
  {
   "cell_type": "code",
   "execution_count": 79,
   "metadata": {
    "ExecuteTime": {
     "end_time": "2021-01-19T17:48:02.271737Z",
     "start_time": "2021-01-19T17:48:02.061437Z"
    }
   },
   "outputs": [
    {
     "data": {
      "text/plain": [
       "LinearRegression()"
      ]
     },
     "execution_count": 79,
     "metadata": {},
     "output_type": "execute_result"
    }
   ],
   "source": [
    "# Instantiating Linear Regression and fitting to my training data\n",
    "lr_2 = LinearRegression()\n",
    "lr_2.fit(X_train_3, y_train_log_3)"
   ]
  },
  {
   "cell_type": "code",
   "execution_count": 80,
   "metadata": {
    "ExecuteTime": {
     "end_time": "2021-01-19T17:48:02.309137Z",
     "start_time": "2021-01-19T17:48:02.290021Z"
    }
   },
   "outputs": [],
   "source": [
    "# Pedictions and residuals from this linear regression model \n",
    "prediction_3 = lr_2.predict(X_test_3)\n",
    "residuals_3 = y_test_log_3 - prediction_3\n",
    "pred_prices_3 = np.exp(prediction_3)"
   ]
  },
  {
   "cell_type": "code",
   "execution_count": 81,
   "metadata": {
    "ExecuteTime": {
     "end_time": "2021-01-19T17:48:02.327656Z",
     "start_time": "2021-01-19T17:48:02.313641Z"
    }
   },
   "outputs": [
    {
     "name": "stdout",
     "output_type": "stream",
     "text": [
      "The mean squared error is 418062748.3750764\n",
      "The root mean squared error is 20446.582804348418\n",
      "The mean absolute error is 14056.420598136816\n",
      "The r2 is 0.9297617798316367\n",
      "The sse is 171405726833.78134\n",
      "The max error is 139149.8007561234\n"
     ]
    }
   ],
   "source": [
    "# Linear regression metrics \n",
    "\n",
    "create_metrics(y_test_3, pred_prices_3)"
   ]
  },
  {
   "cell_type": "code",
   "execution_count": 82,
   "metadata": {
    "ExecuteTime": {
     "end_time": "2021-01-19T17:48:02.651447Z",
     "start_time": "2021-01-19T17:48:02.335549Z"
    }
   },
   "outputs": [
    {
     "data": {
      "image/png": "[encoded data removed]",
      "text/plain": [
       "<Figure size 432x288 with 1 Axes>"
      ]
     },
     "metadata": {
      "needs_background": "light"
     },
     "output_type": "display_data"
    }
   ],
   "source": [
    "plt.scatter(x=pred_prices_3, y=residuals_3)\n",
    "plt.xlabel('Predicted Prices ($)')\n",
    "plt.ylabel('Residuals')\n",
    "plt.title('Equal Variance of Residuals');"
   ]
  },
  {
   "cell_type": "markdown",
   "metadata": {},
   "source": [
    "The variance in this model is even smaller than the past, however there is still a heterscedastic pattern in the residuals. "
   ]
  },
  {
   "cell_type": "markdown",
   "metadata": {
    "ExecuteTime": {
     "end_time": "2021-01-19T14:29:26.393342Z",
     "start_time": "2021-01-19T14:29:26.389914Z"
    }
   },
   "source": [
    "## Linear Regression with Lasso (L1) Regularization\n",
    "\n",
    "Lasso regularization simplifies our model, reducing variance bias, through the L1 penalty coefficient. This coefficient will take the slop of some features down to zero, thus creating a more sparse set of features to work with. \n",
    "\n",
    "To perform lasso regularization, we need to standard scale the predictors to their (transform predictor values into their z-score value). By doing so, we can accurately compare the different features, which may have variable units otherwise. "
   ]
  },
  {
   "cell_type": "code",
   "execution_count": 83,
   "metadata": {
    "ExecuteTime": {
     "end_time": "2021-01-19T17:48:02.721930Z",
     "start_time": "2021-01-19T17:48:02.656412Z"
    }
   },
   "outputs": [],
   "source": [
    "# Standard Sclaing the full predictor training abnd test sets\n",
    "ssc = StandardScaler()\n",
    "\n",
    "# Utilizing previous test train split because I am using all of the features\n",
    "# In my lasso regression\n",
    "\n",
    "Z_train = ssc.fit_transform(X_train_3)\n",
    "Z_test = ssc.transform(X_test_3)"
   ]
  },
  {
   "cell_type": "code",
   "execution_count": 84,
   "metadata": {
    "ExecuteTime": {
     "end_time": "2021-01-19T17:48:03.995352Z",
     "start_time": "2021-01-19T17:48:02.730370Z"
    }
   },
   "outputs": [],
   "source": [
    "# creating list of potential alphas for lasso regularization\n",
    "lasso_alphas = np.logspace(0,3,100)\n",
    "\n",
    "# utilizing LassoCV which has built-in 5 fold cross-validation for determing\n",
    "# the best alpha values for each feature.\n",
    "lasso = LassoCV(alphas=lasso_alphas, cv=5, max_iter=50000)\n",
    "\n",
    "#Fitting lasso model \n",
    "lasso.fit(Z_train, y_train_3);"
   ]
  },
  {
   "cell_type": "code",
   "execution_count": 85,
   "metadata": {
    "ExecuteTime": {
     "end_time": "2021-01-19T17:48:04.022089Z",
     "start_time": "2021-01-19T17:48:03.998108Z"
    }
   },
   "outputs": [],
   "source": [
    "# Creating DataFrame with each lasso coefficient per feature\n",
    "lasso_coef = pd.DataFrame({'lasso.coef_':lasso.coef_, 'features': x_vars})"
   ]
  },
  {
   "cell_type": "code",
   "execution_count": 86,
   "metadata": {
    "ExecuteTime": {
     "end_time": "2021-01-19T17:48:04.075356Z",
     "start_time": "2021-01-19T17:48:04.027312Z"
    }
   },
   "outputs": [],
   "source": [
    "# Creating list of lasso features with coefficients > 0, i.e. features\n",
    "# regularization deemed important. \n",
    "\n",
    "lasso_feats = lasso_coef[lasso_coef['lasso.coef_'] != 0]['features'].to_list()"
   ]
  },
  {
   "cell_type": "code",
   "execution_count": 87,
   "metadata": {
    "ExecuteTime": {
     "end_time": "2021-01-19T17:48:04.125927Z",
     "start_time": "2021-01-19T17:48:04.088924Z"
    }
   },
   "outputs": [],
   "source": [
    "# Predicted values from lasso regularization linear regression \n",
    "lasso_predicts = lasso.predict(Z_test)"
   ]
  },
  {
   "cell_type": "code",
   "execution_count": 88,
   "metadata": {
    "ExecuteTime": {
     "end_time": "2021-01-19T17:48:04.173340Z",
     "start_time": "2021-01-19T17:48:04.142639Z"
    }
   },
   "outputs": [
    {
     "name": "stdout",
     "output_type": "stream",
     "text": [
      "The mean squared error is 615238837.1026522\n",
      "The root mean squared error is 24804.008488602245\n",
      "The mean absolute error is 17469.72136701634\n",
      "The r2 is 0.8966344620167547\n",
      "The sse is 252247923212.0874\n",
      "The max error is 151667.10356047796\n"
     ]
    }
   ],
   "source": [
    "# Metrics for comparing models\n",
    "create_metrics(y_test_3, lasso_predicts)"
   ]
  },
  {
   "cell_type": "code",
   "execution_count": 89,
   "metadata": {
    "ExecuteTime": {
     "end_time": "2021-01-19T17:48:04.192472Z",
     "start_time": "2021-01-19T17:48:04.182703Z"
    }
   },
   "outputs": [],
   "source": [
    "# Calculating residuals \n",
    "\n",
    "lasso_residuals = y_test_3 - lasso_predicts"
   ]
  },
  {
   "cell_type": "code",
   "execution_count": 90,
   "metadata": {
    "ExecuteTime": {
     "end_time": "2021-01-19T17:48:04.567188Z",
     "start_time": "2021-01-19T17:48:04.201100Z"
    }
   },
   "outputs": [
    {
     "data": {
      "text/plain": [
       "Text(0.5, 1.0, 'Equal Variance of Residuals')"
      ]
     },
     "execution_count": 90,
     "metadata": {},
     "output_type": "execute_result"
    },
    {
     "data": {
      "image/png": "[encoded data removed]",
      "text/plain": [
       "<Figure size 432x288 with 1 Axes>"
      ]
     },
     "metadata": {
      "needs_background": "light"
     },
     "output_type": "display_data"
    }
   ],
   "source": [
    "plt.scatter(x=lasso_predicts, y=lasso_residuals)\n",
    "plt.xlabel('Predicted Prices ($)')\n",
    "plt.ylabel('Residuals')\n",
    "plt.title('Equal Variance of Residuals')"
   ]
  },
  {
   "cell_type": "markdown",
   "metadata": {},
   "source": [
    "The variance in residual values is more homoscedastic than the previous linear regressions, however there is a larger range of residuals. This range in residuals is responsible for the lower R2 than the overfit linear regression."
   ]
  },
  {
   "cell_type": "markdown",
   "metadata": {},
   "source": [
    "## Linear Regression with Ridge (L2) Regularization \n",
    "\n",
    "Ridge regression utilizes L2 regularization to adjust feature slope coefficient values. However, it does not reduce unimportant features to 0 like lasso, and thus results in a more dense predictor matrix with slightly less interpretability than the lasso regularization linear regression. However, it also results in less bias. "
   ]
  },
  {
   "cell_type": "code",
   "execution_count": 91,
   "metadata": {
    "ExecuteTime": {
     "end_time": "2021-01-19T17:48:06.722210Z",
     "start_time": "2021-01-19T17:48:04.571453Z"
    }
   },
   "outputs": [],
   "source": [
    "# Cross validating the ridge alpha (L2) penalty facot\n",
    "ridge_alpha = np.logspace(0, 70, 100)\n",
    "ridge_cv = RidgeCV(alphas=ridge_alpha, scoring='r2', cv=5)\n",
    "\n",
    "# Fitting the resulting Ridge Regularization model \n",
    "ridge_cv.fit(Z_train, y_train_3);\n"
   ]
  },
  {
   "cell_type": "code",
   "execution_count": 92,
   "metadata": {
    "ExecuteTime": {
     "end_time": "2021-01-19T17:48:06.775701Z",
     "start_time": "2021-01-19T17:48:06.724158Z"
    }
   },
   "outputs": [],
   "source": [
    "ridge_predicts = ridge_cv.predict(Z_test)"
   ]
  },
  {
   "cell_type": "code",
   "execution_count": 93,
   "metadata": {
    "ExecuteTime": {
     "end_time": "2021-01-19T17:48:06.790590Z",
     "start_time": "2021-01-19T17:48:06.783538Z"
    }
   },
   "outputs": [],
   "source": [
    "ridge_residuals = y_test_3 - ridge_predicts"
   ]
  },
  {
   "cell_type": "code",
   "execution_count": 94,
   "metadata": {
    "ExecuteTime": {
     "end_time": "2021-01-19T17:48:06.836781Z",
     "start_time": "2021-01-19T17:48:06.802829Z"
    }
   },
   "outputs": [
    {
     "name": "stdout",
     "output_type": "stream",
     "text": [
      "The mean squared error is 613635228.8639101\n",
      "The root mean squared error is 24771.661810704387\n",
      "The mean absolute error is 17477.696393755792\n",
      "The r2 is 0.8969038823106564\n",
      "The sse is 251590443834.20312\n",
      "The max error is 150432.13360461895\n"
     ]
    }
   ],
   "source": [
    "create_metrics(y_test_3, ridge_predicts)"
   ]
  },
  {
   "cell_type": "code",
   "execution_count": 95,
   "metadata": {
    "ExecuteTime": {
     "end_time": "2021-01-19T17:48:07.243427Z",
     "start_time": "2021-01-19T17:48:06.872759Z"
    }
   },
   "outputs": [
    {
     "data": {
      "text/plain": [
       "Text(0.5, 1.0, 'Equal Variance of Residuals')"
      ]
     },
     "execution_count": 95,
     "metadata": {},
     "output_type": "execute_result"
    },
    {
     "data": {
      "image/png": "[encoded data removed]",
      "text/plain": [
       "<Figure size 432x288 with 1 Axes>"
      ]
     },
     "metadata": {
      "needs_background": "light"
     },
     "output_type": "display_data"
    }
   ],
   "source": [
    "plt.scatter(x=ridge_predicts, y=ridge_residuals)\n",
    "plt.xlabel('Predicted Prices ($)')\n",
    "plt.ylabel('Residuals')\n",
    "plt.title('Equal Variance of Residuals')"
   ]
  },
  {
   "cell_type": "code",
   "execution_count": null,
   "metadata": {},
   "outputs": [],
   "source": []
  },
  {
   "cell_type": "markdown",
   "metadata": {},
   "source": [
    "## Linear Regression with Lasso Features\n",
    "\n",
    "My final model utilizes the list of features deemed important by the lasso regularization and inputs those features as my predictors for a standardized linear regression. "
   ]
  },
  {
   "cell_type": "code",
   "execution_count": 96,
   "metadata": {
    "ExecuteTime": {
     "end_time": "2021-01-19T17:48:07.256477Z",
     "start_time": "2021-01-19T17:48:07.250295Z"
    }
   },
   "outputs": [],
   "source": [
    "X_4 = train[lasso_feats]\n",
    "y_4 = train['saleprice']"
   ]
  },
  {
   "cell_type": "code",
   "execution_count": 97,
   "metadata": {
    "ExecuteTime": {
     "end_time": "2021-01-19T17:48:07.279469Z",
     "start_time": "2021-01-19T17:48:07.259700Z"
    }
   },
   "outputs": [],
   "source": [
    "X_train_4, X_test_4, y_train_4, y_test_4 = train_test_split(X_4, y_4, test_size=0.2, random_state=73)"
   ]
  },
  {
   "cell_type": "code",
   "execution_count": 98,
   "metadata": {
    "ExecuteTime": {
     "end_time": "2021-01-19T17:48:07.300437Z",
     "start_time": "2021-01-19T17:48:07.284105Z"
    }
   },
   "outputs": [],
   "source": [
    "y_train_log_4 = y_train_4.map(np.log)\n",
    "y_test_log_4 = y_test_4.map(np.log)"
   ]
  },
  {
   "cell_type": "code",
   "execution_count": 99,
   "metadata": {
    "ExecuteTime": {
     "end_time": "2021-01-19T17:48:07.323823Z",
     "start_time": "2021-01-19T17:48:07.304348Z"
    }
   },
   "outputs": [
    {
     "data": {
      "text/plain": [
       "LinearRegression()"
      ]
     },
     "execution_count": 99,
     "metadata": {},
     "output_type": "execute_result"
    }
   ],
   "source": [
    "lr_3 = LinearRegression()\n",
    "lr_3.fit(X_train_4, y_train_log_4)"
   ]
  },
  {
   "cell_type": "code",
   "execution_count": 100,
   "metadata": {
    "ExecuteTime": {
     "end_time": "2021-01-19T17:48:07.343581Z",
     "start_time": "2021-01-19T17:48:07.331963Z"
    }
   },
   "outputs": [],
   "source": [
    "prediction_4 = lr_3.predict(X_test_4)\n",
    "residuals_4 = y_test_log_4 - prediction_4\n",
    "pred_prices_4 = np.exp(prediction_4)"
   ]
  },
  {
   "cell_type": "code",
   "execution_count": 101,
   "metadata": {
    "ExecuteTime": {
     "end_time": "2021-01-19T17:48:07.358463Z",
     "start_time": "2021-01-19T17:48:07.350113Z"
    }
   },
   "outputs": [
    {
     "data": {
      "text/plain": [
       "0.9287231221441783"
      ]
     },
     "execution_count": 101,
     "metadata": {},
     "output_type": "execute_result"
    }
   ],
   "source": [
    "metrics.r2_score(y_test_4, pred_prices_4)"
   ]
  },
  {
   "cell_type": "code",
   "execution_count": 102,
   "metadata": {
    "ExecuteTime": {
     "end_time": "2021-01-19T17:48:07.374514Z",
     "start_time": "2021-01-19T17:48:07.362153Z"
    }
   },
   "outputs": [
    {
     "name": "stdout",
     "output_type": "stream",
     "text": [
      "The mean squared error is 424244910.8273557\n",
      "The root mean squared error is 20597.206384054993\n",
      "The mean absolute error is 14256.238923989858\n",
      "The r2 is 0.9287231221441783\n",
      "The sse is 173940413439.21582\n",
      "The max error is 129892.16818478314\n"
     ]
    }
   ],
   "source": [
    "create_metrics(y_test_4, pred_prices_4)"
   ]
  },
  {
   "cell_type": "code",
   "execution_count": 103,
   "metadata": {
    "ExecuteTime": {
     "end_time": "2021-01-19T17:48:07.747390Z",
     "start_time": "2021-01-19T17:48:07.381585Z"
    }
   },
   "outputs": [
    {
     "data": {
      "text/plain": [
       "Text(0.5, 1.0, 'Equal Variance of Residuals')"
      ]
     },
     "execution_count": 103,
     "metadata": {},
     "output_type": "execute_result"
    },
    {
     "data": {
      "image/png": "[encoded data removed]",
      "text/plain": [
       "<Figure size 432x288 with 1 Axes>"
      ]
     },
     "metadata": {
      "needs_background": "light"
     },
     "output_type": "display_data"
    }
   ],
   "source": [
    "plt.scatter(x=pred_prices_4, y=residuals_4)\n",
    "plt.xlabel('Predicted Prices ($)')\n",
    "plt.ylabel('Residuals')\n",
    "plt.title('Equal Variance of Residuals');"
   ]
  },
  {
   "cell_type": "code",
   "execution_count": 104,
   "metadata": {
    "ExecuteTime": {
     "end_time": "2021-01-19T17:48:07.773778Z",
     "start_time": "2021-01-19T17:48:07.758762Z"
    }
   },
   "outputs": [],
   "source": [
    "# More generalizable than overfit line. "
   ]
  },
  {
   "cell_type": "markdown",
   "metadata": {},
   "source": [
    "## Production Algorithm\n",
    "\n",
    "For my final production algorithm, I would choose the standardized linear regression model with lasso features. This algorithm has similar R2 and Root Mean Squared Error (RMSE) values to the overfit linear regression (which has the best values for both), with the addeed benefit of being slightly more generalizable due to the feature reduction. "
   ]
  },
  {
   "cell_type": "markdown",
   "metadata": {},
   "source": [
    "### Why this Algorithm? \n",
    "\n",
    "While the overfit standard linear regression model had the best R2 and Root Mean Squared Error (RMSE) values, they were only marginally better than the linear regression model with lasso features. The added benefit of choosing linear regression with lasso features over the overfit linear regression model is two-fold:\n",
    "\n",
    "* Feature reduction improves the variance error, thus making the model more generalizable to a wider array of Ames Housing datasets. \n",
    "* Feature reduction improves the performance of the model, allowing the predictions to be calculated more efficiently for a larger Ames Housing dataset. \n",
    "\n",
    "Therefore, for an appraiser trying to model housing prices on a large number of Ames houses, the linear regression with lasso features is the ideal production model. "
   ]
  },
  {
   "cell_type": "code",
   "execution_count": null,
   "metadata": {},
   "outputs": [],
   "source": []
  }
 ],
 "metadata": {
  "kernelspec": {
   "display_name": "Python 3",
   "language": "python",
   "name": "python3"
  },
  "language_info": {
   "codemirror_mode": {
    "name": "ipython",
    "version": 3
   },
   "file_extension": ".py",
   "mimetype": "text/x-python",
   "name": "python",
   "nbconvert_exporter": "python",
   "pygments_lexer": "ipython3",
   "version": "3.8.5"
  }
 },
 "nbformat": 4,
 "nbformat_minor": 4
}
