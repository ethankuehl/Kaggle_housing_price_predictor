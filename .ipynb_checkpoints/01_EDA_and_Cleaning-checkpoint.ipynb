{
 "cells": [
  {
   "cell_type": "markdown",
   "metadata": {},
   "source": [
    "# Predicting the Price of a Home in Ames, Iowa"
   ]
  },
  {
   "cell_type": "markdown",
   "metadata": {},
   "source": [
    "##  Problem Statement\n",
    "\n",
    "[Home appraisals](https://www.investopedia.com/articles/pf/12/home-appraisals.asp) are almost always used in home purchase and sale transactions as well as in mortgage refinancing. Appraisers within a given financial institution will utilize the same [checklist](https://www.americanfinancing.net/mortgage-basics/home-appraisal-checklist) for conducting home value comparisons in a given area. This project aims to use linear regression to aid home appraisers in Ames, Iowa determine an accurate home value based on responses to the appraisal checklist used in the Ames, Iowa Housing dataset. "
   ]
  },
  {
   "cell_type": "markdown",
   "metadata": {},
   "source": [
    "## Contents"
   ]
  },
  {
   "cell_type": "markdown",
   "metadata": {},
   "source": [
    "## Background\n"
   ]
  },
  {
   "cell_type": "markdown",
   "metadata": {},
   "source": [
    "## Data\n",
    "\n"
   ]
  },
  {
   "cell_type": "markdown",
   "metadata": {},
   "source": [
    "## Data Cleaning and EDA\n",
    "\n",
    "My objective for this portion of the modeling is to transform the Ames Housing dataset into a dataset useful for linear regression modeling. \n",
    "\n",
    "The work-flow is as follows:\n",
    "* Impute for my null values in each feature\n",
    "* Determine whether my predictors have a linear relationship to sale price \n",
    "* Transform ordinal and categorical predictors\n",
    "* Identify outliers that can be dropped or cleaned if it is a transcription error"
   ]
  },
  {
   "cell_type": "code",
   "execution_count": 203,
   "metadata": {
    "ExecuteTime": {
     "end_time": "2021-01-19T21:44:18.854979Z",
     "start_time": "2021-01-19T21:44:18.836341Z"
    }
   },
   "outputs": [],
   "source": [
    "import pandas as pd\n",
    "import numpy as np\n",
    "import matplotlib.pyplot as plt\n",
    "import seaborn as sns\n",
    "import statsmodels.api as sm\n",
    "import pylab as py\n",
    "\n",
    "from sklearn import metrics\n",
    "from statsmodels.formula.api import ols\n",
    "from scipy import stats\n",
    "\n",
    "# pd.set_option('display.max_columns', 999)\n",
    "# pd.set_option('display.max_rows', 999)"
   ]
  },
  {
   "cell_type": "code",
   "execution_count": 204,
   "metadata": {
    "ExecuteTime": {
     "end_time": "2021-01-19T21:44:19.013375Z",
     "start_time": "2021-01-19T21:44:18.864676Z"
    }
   },
   "outputs": [],
   "source": [
    "# Reading the training dataset into dataframe train\n",
    "train = pd.read_csv('datasets/train.csv')"
   ]
  },
  {
   "cell_type": "code",
   "execution_count": 205,
   "metadata": {
    "ExecuteTime": {
     "end_time": "2021-01-19T21:44:19.059784Z",
     "start_time": "2021-01-19T21:44:19.017591Z"
    }
   },
   "outputs": [],
   "source": [
    "# Cleaning the name of the train column headers\n",
    "for col in train.columns:\n",
    "    train.rename(columns={col: col.lower().replace(' ','_')}, inplace=True)"
   ]
  },
  {
   "cell_type": "code",
   "execution_count": 206,
   "metadata": {
    "ExecuteTime": {
     "end_time": "2021-01-19T21:44:19.127659Z",
     "start_time": "2021-01-19T21:44:19.062539Z"
    }
   },
   "outputs": [
    {
     "data": {
      "text/plain": [
       "pool_qc           2042\n",
       "misc_feature      1986\n",
       "alley             1911\n",
       "fence             1651\n",
       "fireplace_qu      1000\n",
       "lot_frontage       330\n",
       "garage_finish      114\n",
       "garage_cond        114\n",
       "garage_qual        114\n",
       "garage_yr_blt      114\n",
       "garage_type        113\n",
       "bsmt_exposure       58\n",
       "bsmtfin_type_2      56\n",
       "bsmtfin_type_1      55\n",
       "bsmt_cond           55\n",
       "bsmt_qual           55\n",
       "mas_vnr_type        22\n",
       "mas_vnr_area        22\n",
       "bsmt_half_bath       2\n",
       "bsmt_full_bath       2\n",
       "garage_cars          1\n",
       "garage_area          1\n",
       "bsmt_unf_sf          1\n",
       "bsmtfin_sf_2         1\n",
       "total_bsmt_sf        1\n",
       "bsmtfin_sf_1         1\n",
       "overall_cond         0\n",
       "dtype: int64"
      ]
     },
     "execution_count": 206,
     "metadata": {},
     "output_type": "execute_result"
    }
   ],
   "source": [
    "# Checking which datasets columns are null\n",
    "\n",
    "train.isnull().sum().sort_values(ascending=False).head(n=27)"
   ]
  },
  {
   "cell_type": "markdown",
   "metadata": {},
   "source": [
    "## Explanation of Values Imputed for Null Values \n",
    "\n",
    "* garage_year_built is the only numerical feature whose null values I did not impute with 0. Instead, I imputed the value with the mean year built because the sale price for null values followed the same distribution that the null values for non-null values. \n",
    "* Other null numerical features suggests that feature does not exist for the observation. For example, a null fireplace_qu value denotes that the home sold does not have a fireplace. "
   ]
  },
  {
   "cell_type": "markdown",
   "metadata": {},
   "source": [
    "|Feature with Null Value|What Null Value Means|Imputed Value|\n",
    "| --- | --- | --- |\n",
    "|pool_qc| No pool| 0|\n",
    "|misc feature|No misc. features|Na|\n",
    "|alley|No alley acess|Na|\n",
    "|fireplace_qu|No fireplace|0|\n",
    "|lot_frontage|House not on street|0|\n",
    "|garage_cars|No garage|0|\n",
    "|garage_area|No garage|0|\n",
    "|garage_finish|No garage|Na|\n",
    "|garage_cond|No garage|0|\n",
    "|garage_qual|No garage|0|\n",
    "|garage_yr_blt|No garage|Garage year built median|\n",
    "|garage_type|No garage|Na|\n",
    "|bsmt_exposure|No basement|Na|\n",
    "|bsmtfin_type_2|No basement|Na|\n",
    "|bsmtfin_type_1|No basement|Na|\n",
    "|bsmt_cond|No basement|0|\n",
    "|bsmt_qual|No basement|0|\n",
    "|bsmt_half_bath|No basement|0|\n",
    "|bsmt_full_bath|No basement|0|\n",
    "|bsmt_unf_sf|No basement|0|\n",
    "|bsmtfin_sf_2|No basement|0|\n",
    "|total_bsmt_sf|No basement|0|\n",
    "|bsmtfin_sf_1|No basement|0|\n",
    "|mas_vnr_type|No veneer|Na|\n",
    "|mas_vnr_area|No veneer|0|\n"
   ]
  },
  {
   "cell_type": "markdown",
   "metadata": {},
   "source": [
    "### Numerical Features"
   ]
  },
  {
   "cell_type": "markdown",
   "metadata": {
    "ExecuteTime": {
     "end_time": "2021-01-18T22:29:50.015652Z",
     "start_time": "2021-01-18T22:29:49.998085Z"
    }
   },
   "source": [
    "Features that inherently discrete measurements of a particular home attribute. "
   ]
  },
  {
   "cell_type": "code",
   "execution_count": 207,
   "metadata": {
    "ExecuteTime": {
     "end_time": "2021-01-19T21:44:19.219981Z",
     "start_time": "2021-01-19T21:44:19.159863Z"
    }
   },
   "outputs": [],
   "source": [
    "# Dropping target and numerical columns that are not continuous variables \n",
    "\n",
    "drop_cols = ['ms_subclass', 'id', 'pid', 'saleprice']\n",
    "numerical_columns = train._get_numeric_data().columns.drop(drop_cols)\n"
   ]
  },
  {
   "cell_type": "code",
   "execution_count": 208,
   "metadata": {
    "ExecuteTime": {
     "end_time": "2021-01-19T21:44:19.268374Z",
     "start_time": "2021-01-19T21:44:19.236824Z"
    }
   },
   "outputs": [],
   "source": [
    "# null_skewness = pd.DataFrame({'feature': numerical_columns})\n",
    "# null_skewness['skewness'] = stats.skew(train[numerical_columns])"
   ]
  },
  {
   "cell_type": "code",
   "execution_count": 209,
   "metadata": {
    "ExecuteTime": {
     "end_time": "2021-01-19T21:44:19.298040Z",
     "start_time": "2021-01-19T21:44:19.294511Z"
    }
   },
   "outputs": [],
   "source": [
    "# for feat in null_skewness['feature']:\n",
    "#     plt.figure()\n",
    "#     plt.hist(x=train[feat])\n",
    "#     plt.title(feat)"
   ]
  },
  {
   "cell_type": "code",
   "execution_count": 210,
   "metadata": {
    "ExecuteTime": {
     "end_time": "2021-01-19T21:44:20.164185Z",
     "start_time": "2021-01-19T21:44:19.320451Z"
    }
   },
   "outputs": [
    {
     "data": {
      "image/png": "[encoded data removed]",
      "text/plain": [
       "<Figure size 432x288 with 1 Axes>"
      ]
     },
     "metadata": {
      "needs_background": "light"
     },
     "output_type": "display_data"
    }
   ],
   "source": [
    "null_garage_yr_built = sns.histplot(data=train, x='garage_yr_blt')\n",
    "plt.title('Garage Year Built with No Imputes')\n",
    "plt.xlabel('Garage Year Built')\n",
    "plt.savefig('./figures/nul_garage_year_built.png', format='png');\n",
    "plt.show(null_garage_yr_built);"
   ]
  },
  {
   "cell_type": "markdown",
   "metadata": {},
   "source": [
    "##### There is an outlier that is skewing this data. The garage year built should not exceed the maximum year built. "
   ]
  },
  {
   "cell_type": "markdown",
   "metadata": {},
   "source": [
    "### Outlier Identification \n",
    "\n",
    "* Outliers are identified with leveraged (AKA studentized) residuals post linear regression modeling. \n",
    "    * [Source: Introduction to Statistical Learning, pg 97](https://statlearning.com/ISLR%20Seventh%20Printing.pdf)\n",
    "* The below figure displays studentized residuals vs the total predicted price. \n",
    "* There are 5 total outliers: points with studentized residuals greater than 6 or less than -6.\n",
    "* The code for calculating outliers is shown below\n",
    "\n",
    "### Code that calculated studentized residuals\n",
    "\n",
    "```\n",
    "# Predictors span the entire set of observations \n",
    "X_train_sm = sm.add_constant(X, prepend=True)\n",
    "\n",
    "# Instantiating and fitting statsmodels ordinary least squares\n",
    "lr_model = sm.OLS(y_log, X_train_sm).fit()\n",
    "\n",
    "```\n",
    "```\n",
    "# Performing statsmodels outliers test, calculates leveraged (AKA studentized) residuals\n",
    "outliers = lr_model.outlier_test()\n",
    "\n",
    "# Gathering 5 largest outliers according to leveraged residuals\n",
    "outliers['student_resid'].abs().sort_values(ascending=False).head(n=5)\n",
    "\n",
    "# Calculating predicted prices for ordinary least squares\n",
    "sm_pred_prices = np.exp(lr_model.predict(X_train_sm))\n",
    "```\n",
    "\n",
    "```\n",
    "# Plotting leveraged residuals versus the predicted prices\n",
    "student_res = outliers['student_resid']\n",
    "\n",
    "# Most data points concentrated between -6 and 6 studentized residuals\n",
    "# Outliers are thus greater than 6 or less than -5\n",
    "plt.axhline(y=-6, color='red')\n",
    "plt.axhline(y=6, color='red')\n",
    "plt.scatter(x=sm_pred_prices, y=student_res)\n",
    "\n",
    "plt.title('Outlier Identification')\n",
    "plt.ylabel('Studentized Residuals')\n",
    "plt.xlabel('Predicted Price')\n",
    "\n",
    "plt.savefig('./figures/outlier_identification.png', format='png');\n",
    "```\n",
    "|Index|Studentized Residual(abs value)|\n",
    "|---|---|\n",
    "|960|16.898|\n",
    "|1628|11.360|\n",
    "|183|10.625|\n",
    "|1885|10.481|\n",
    "|952|6.635|"
   ]
  },
  {
   "cell_type": "markdown",
   "metadata": {},
   "source": [
    "![Outliers](./figures/outlier_identification.png)"
   ]
  },
  {
   "cell_type": "code",
   "execution_count": 211,
   "metadata": {
    "ExecuteTime": {
     "end_time": "2021-01-19T21:44:20.185789Z",
     "start_time": "2021-01-19T21:44:20.169276Z"
    }
   },
   "outputs": [],
   "source": [
    "# Dropping outliers\n",
    "train.drop([960,1628,183,1885, 952], inplace=True)"
   ]
  },
  {
   "cell_type": "markdown",
   "metadata": {},
   "source": [
    "### Imputing Values for Null and Nonsensical Outlier Values in Garage Year Built\n",
    "\n",
    "![Outliers](./figures/nul_garage_year_built.png)\n",
    "\n",
    "![Outliers](./figures/impute_median_outlier_garage_year_built.png)\n",
    "\n",
    "![Null](./figures/impute_mean_garage_year_built.png) ![Null](./figures/impute_median_outlier_garage_year_built.png)\n",
    "\n"
   ]
  },
  {
   "cell_type": "code",
   "execution_count": 212,
   "metadata": {
    "ExecuteTime": {
     "end_time": "2021-01-19T21:44:20.205254Z",
     "start_time": "2021-01-19T21:44:20.197849Z"
    }
   },
   "outputs": [],
   "source": [
    "# This garage year built does not make sense (2207). \n",
    "# Replacing it with the median value because it the measure closer to the\n",
    "#center of the normal distribution \n",
    "\n",
    "train[train['garage_yr_blt'] == train['garage_yr_blt'].max()]\n",
    "train.loc[1699, 'garage_yr_blt'] = train['garage_yr_blt'].median()"
   ]
  },
  {
   "cell_type": "code",
   "execution_count": 213,
   "metadata": {
    "ExecuteTime": {
     "end_time": "2021-01-19T21:44:20.220142Z",
     "start_time": "2021-01-19T21:44:20.214357Z"
    }
   },
   "outputs": [],
   "source": [
    "# Imputing null values with median value because there is a significant outlier \n",
    "# in the garage year built that pulls the mean higher. The median is actually \n",
    "# the more accurate measure of central tendency because of this. \n",
    "\n",
    "train['garage_yr_blt'].fillna(train['garage_yr_blt'].median(), inplace=True)"
   ]
  },
  {
   "cell_type": "code",
   "execution_count": 214,
   "metadata": {
    "ExecuteTime": {
     "end_time": "2021-01-19T21:44:20.229160Z",
     "start_time": "2021-01-19T21:44:20.223276Z"
    }
   },
   "outputs": [],
   "source": [
    "# sns.histplot(data=train, x='garage_yr_blt')\n",
    "# plt.title('Impute Median for Outlier Garage Year Built Values')\n",
    "# plt.xlabel('Garage Year Built')\n",
    "# plt.savefig('./figures/impute_median_outlier_garage_year_built.png', format='png');"
   ]
  },
  {
   "cell_type": "code",
   "execution_count": null,
   "metadata": {
    "ExecuteTime": {
     "end_time": "2021-01-19T18:58:32.285964Z",
     "start_time": "2021-01-19T18:58:32.144605Z"
    }
   },
   "outputs": [],
   "source": []
  },
  {
   "cell_type": "code",
   "execution_count": 215,
   "metadata": {
    "ExecuteTime": {
     "end_time": "2021-01-19T21:44:20.249236Z",
     "start_time": "2021-01-19T21:44:20.234417Z"
    }
   },
   "outputs": [],
   "source": [
    "# data_points = null_skewness['skewness']   \n",
    "# sm.qqplot(data_points, line ='45') \n",
    "# py.show()"
   ]
  },
  {
   "cell_type": "code",
   "execution_count": 216,
   "metadata": {
    "ExecuteTime": {
     "end_time": "2021-01-19T21:44:20.258884Z",
     "start_time": "2021-01-19T21:44:20.254751Z"
    }
   },
   "outputs": [],
   "source": [
    "# train['garage_yr_blt'].fillna(train['garage_yr_blt'].mean(), inplace=True)\n",
    "# sns.histplot(data=train, x='garage_yr_blt')\n",
    "# plt.title('Impute Mean for Null Garage Year Built Values')\n",
    "# plt.xlabel('Garage Year Built')\n",
    "# plt.savefig('./figures/impute_mean_garage_year_built.png', format='png');"
   ]
  },
  {
   "cell_type": "code",
   "execution_count": 217,
   "metadata": {
    "ExecuteTime": {
     "end_time": "2021-01-19T21:44:20.750894Z",
     "start_time": "2021-01-19T21:44:20.269008Z"
    }
   },
   "outputs": [
    {
     "data": {
      "image/png": "[encoded data removed]",
      "text/plain": [
       "<Figure size 432x288 with 1 Axes>"
      ]
     },
     "metadata": {
      "needs_background": "light"
     },
     "output_type": "display_data"
    }
   ],
   "source": [
    "sns.histplot(data=train, x='garage_yr_blt')\n",
    "plt.title('Impute Median for Null Garage Year Built Values')\n",
    "plt.xlabel('Garage Year Built')\n",
    "plt.savefig('./figures/impute_median_garage_year_built.png', format='png');"
   ]
  },
  {
   "cell_type": "code",
   "execution_count": 218,
   "metadata": {
    "ExecuteTime": {
     "end_time": "2021-01-19T21:44:20.773162Z",
     "start_time": "2021-01-19T21:44:20.753323Z"
    }
   },
   "outputs": [],
   "source": [
    "# Imputing all other numerical nulls with 0 \n",
    "\n",
    "train[numerical_columns] = train[numerical_columns].fillna(0)"
   ]
  },
  {
   "cell_type": "code",
   "execution_count": 219,
   "metadata": {
    "ExecuteTime": {
     "end_time": "2021-01-19T21:44:20.798723Z",
     "start_time": "2021-01-19T21:44:20.783167Z"
    }
   },
   "outputs": [],
   "source": [
    "# Calculating Fisher-Pearson coefficient of skewness for each feature \n",
    "\n",
    "impute_skewness = pd.DataFrame({'feature': numerical_columns})\n",
    "impute_skewness['skewness'] = stats.skew(train[numerical_columns])"
   ]
  },
  {
   "cell_type": "code",
   "execution_count": 220,
   "metadata": {
    "ExecuteTime": {
     "end_time": "2021-01-19T21:44:20.808939Z",
     "start_time": "2021-01-19T21:44:20.800609Z"
    }
   },
   "outputs": [],
   "source": [
    "# Utilizing Fisher-Pearson coefficients to label the feature based on its \n",
    "# distribution. \n",
    "\n",
    "# Fisher-Pearson coefficient > 10\n",
    "# high_right_skew = skewness[skewness['skewness'] >= 10]['feature'].to_list()\n",
    "\n",
    "# # Fisher-Pearson coefficient < 10 and > 1\n",
    "# moderate_skew = (skewness['skewness'] < 10) & (skewness['skewness'] >= 1)\n",
    "# moderate_right_skew = skewness[moderate_skew]['feature'].to_list()\n",
    "\n",
    "# # Fisher-Pearson coefficient < 1\n",
    "\n",
    "# normal = skewness[skewness['skewness'] < 1]['feature'].to_list()"
   ]
  },
  {
   "cell_type": "markdown",
   "metadata": {},
   "source": [
    "### Distribution of Predictors"
   ]
  },
  {
   "cell_type": "markdown",
   "metadata": {},
   "source": [
    "#### Normally distributed dependent variables"
   ]
  },
  {
   "cell_type": "code",
   "execution_count": 221,
   "metadata": {
    "ExecuteTime": {
     "end_time": "2021-01-19T21:44:43.737355Z",
     "start_time": "2021-01-19T21:44:20.812828Z"
    }
   },
   "outputs": [
    {
     "ename": "KeyboardInterrupt",
     "evalue": "",
     "output_type": "error",
     "traceback": [
      "\u001b[0;31m---------------------------------------------------------------------------\u001b[0m",
      "\u001b[0;31mKeyboardInterrupt\u001b[0m                         Traceback (most recent call last)",
      "\u001b[0;32m<ipython-input-221-71f2bb8c8c73>\u001b[0m in \u001b[0;36m<module>\u001b[0;34m\u001b[0m\n\u001b[0;32m----> 1\u001b[0;31m \u001b[0msns\u001b[0m\u001b[0;34m.\u001b[0m\u001b[0mhistplot\u001b[0m\u001b[0;34m(\u001b[0m\u001b[0mdata\u001b[0m\u001b[0;34m=\u001b[0m\u001b[0mtrain\u001b[0m\u001b[0;34m,\u001b[0m \u001b[0;34m)\u001b[0m\u001b[0;34m\u001b[0m\u001b[0;34m\u001b[0m\u001b[0m\n\u001b[0m",
      "\u001b[0;32m~/opt/anaconda3/lib/python3.8/site-packages/seaborn/distributions.py\u001b[0m in \u001b[0;36mhistplot\u001b[0;34m(data, x, y, hue, weights, stat, bins, binwidth, binrange, discrete, cumulative, common_bins, common_norm, multiple, element, fill, shrink, kde, kde_kws, line_kws, thresh, pthresh, pmax, cbar, cbar_ax, cbar_kws, palette, hue_order, hue_norm, color, log_scale, legend, ax, **kwargs)\u001b[0m\n\u001b[1;32m   1420\u001b[0m     \u001b[0;32mif\u001b[0m \u001b[0mp\u001b[0m\u001b[0;34m.\u001b[0m\u001b[0munivariate\u001b[0m\u001b[0;34m:\u001b[0m\u001b[0;34m\u001b[0m\u001b[0;34m\u001b[0m\u001b[0m\n\u001b[1;32m   1421\u001b[0m \u001b[0;34m\u001b[0m\u001b[0m\n\u001b[0;32m-> 1422\u001b[0;31m         p.plot_univariate_histogram(\n\u001b[0m\u001b[1;32m   1423\u001b[0m             \u001b[0mmultiple\u001b[0m\u001b[0;34m=\u001b[0m\u001b[0mmultiple\u001b[0m\u001b[0;34m,\u001b[0m\u001b[0;34m\u001b[0m\u001b[0;34m\u001b[0m\u001b[0m\n\u001b[1;32m   1424\u001b[0m             \u001b[0melement\u001b[0m\u001b[0;34m=\u001b[0m\u001b[0melement\u001b[0m\u001b[0;34m,\u001b[0m\u001b[0;34m\u001b[0m\u001b[0;34m\u001b[0m\u001b[0m\n",
      "\u001b[0;32m~/opt/anaconda3/lib/python3.8/site-packages/seaborn/distributions.py\u001b[0m in \u001b[0;36mplot_univariate_histogram\u001b[0;34m(self, multiple, element, fill, common_norm, common_bins, shrink, kde, kde_kws, color, legend, line_kws, estimate_kws, **plot_kws)\u001b[0m\n\u001b[1;32m    450\u001b[0m \u001b[0;34m\u001b[0m\u001b[0m\n\u001b[1;32m    451\u001b[0m             \u001b[0;31m# Pack the histogram data and metadata together\u001b[0m\u001b[0;34m\u001b[0m\u001b[0;34m\u001b[0m\u001b[0;34m\u001b[0m\u001b[0m\n\u001b[0;32m--> 452\u001b[0;31m             index = pd.MultiIndex.from_arrays([\n\u001b[0m\u001b[1;32m    453\u001b[0m                 \u001b[0mpd\u001b[0m\u001b[0;34m.\u001b[0m\u001b[0mIndex\u001b[0m\u001b[0;34m(\u001b[0m\u001b[0medges\u001b[0m\u001b[0;34m[\u001b[0m\u001b[0;34m:\u001b[0m\u001b[0;34m-\u001b[0m\u001b[0;36m1\u001b[0m\u001b[0;34m]\u001b[0m\u001b[0;34m,\u001b[0m \u001b[0mname\u001b[0m\u001b[0;34m=\u001b[0m\u001b[0;34m\"edges\"\u001b[0m\u001b[0;34m)\u001b[0m\u001b[0;34m,\u001b[0m\u001b[0;34m\u001b[0m\u001b[0;34m\u001b[0m\u001b[0m\n\u001b[1;32m    454\u001b[0m                 \u001b[0mpd\u001b[0m\u001b[0;34m.\u001b[0m\u001b[0mIndex\u001b[0m\u001b[0;34m(\u001b[0m\u001b[0mnp\u001b[0m\u001b[0;34m.\u001b[0m\u001b[0mdiff\u001b[0m\u001b[0;34m(\u001b[0m\u001b[0medges\u001b[0m\u001b[0;34m)\u001b[0m \u001b[0;34m*\u001b[0m \u001b[0mshrink\u001b[0m\u001b[0;34m,\u001b[0m \u001b[0mname\u001b[0m\u001b[0;34m=\u001b[0m\u001b[0;34m\"widths\"\u001b[0m\u001b[0;34m)\u001b[0m\u001b[0;34m,\u001b[0m\u001b[0;34m\u001b[0m\u001b[0;34m\u001b[0m\u001b[0m\n",
      "\u001b[0;32m~/opt/anaconda3/lib/python3.8/site-packages/pandas/core/indexes/multi.py\u001b[0m in \u001b[0;36mfrom_arrays\u001b[0;34m(cls, arrays, sortorder, names)\u001b[0m\n\u001b[1;32m    437\u001b[0m                 \u001b[0;32mraise\u001b[0m \u001b[0mValueError\u001b[0m\u001b[0;34m(\u001b[0m\u001b[0;34m\"all arrays must be same length\"\u001b[0m\u001b[0;34m)\u001b[0m\u001b[0;34m\u001b[0m\u001b[0;34m\u001b[0m\u001b[0m\n\u001b[1;32m    438\u001b[0m \u001b[0;34m\u001b[0m\u001b[0m\n\u001b[0;32m--> 439\u001b[0;31m         \u001b[0mcodes\u001b[0m\u001b[0;34m,\u001b[0m \u001b[0mlevels\u001b[0m \u001b[0;34m=\u001b[0m \u001b[0mfactorize_from_iterables\u001b[0m\u001b[0;34m(\u001b[0m\u001b[0marrays\u001b[0m\u001b[0;34m)\u001b[0m\u001b[0;34m\u001b[0m\u001b[0;34m\u001b[0m\u001b[0m\n\u001b[0m\u001b[1;32m    440\u001b[0m         \u001b[0;32mif\u001b[0m \u001b[0mnames\u001b[0m \u001b[0;32mis\u001b[0m \u001b[0mlib\u001b[0m\u001b[0;34m.\u001b[0m\u001b[0mno_default\u001b[0m\u001b[0;34m:\u001b[0m\u001b[0;34m\u001b[0m\u001b[0;34m\u001b[0m\u001b[0m\n\u001b[1;32m    441\u001b[0m             \u001b[0mnames\u001b[0m \u001b[0;34m=\u001b[0m \u001b[0;34m[\u001b[0m\u001b[0mgetattr\u001b[0m\u001b[0;34m(\u001b[0m\u001b[0marr\u001b[0m\u001b[0;34m,\u001b[0m \u001b[0;34m\"name\"\u001b[0m\u001b[0;34m,\u001b[0m \u001b[0;32mNone\u001b[0m\u001b[0;34m)\u001b[0m \u001b[0;32mfor\u001b[0m \u001b[0marr\u001b[0m \u001b[0;32min\u001b[0m \u001b[0marrays\u001b[0m\u001b[0;34m]\u001b[0m\u001b[0;34m\u001b[0m\u001b[0;34m\u001b[0m\u001b[0m\n",
      "\u001b[0;32m~/opt/anaconda3/lib/python3.8/site-packages/pandas/core/arrays/categorical.py\u001b[0m in \u001b[0;36mfactorize_from_iterables\u001b[0;34m(iterables)\u001b[0m\n\u001b[1;32m   2723\u001b[0m         \u001b[0;31m# For consistency, it should return a list of 2 lists.\u001b[0m\u001b[0;34m\u001b[0m\u001b[0;34m\u001b[0m\u001b[0;34m\u001b[0m\u001b[0m\n\u001b[1;32m   2724\u001b[0m         \u001b[0;32mreturn\u001b[0m \u001b[0;34m[\u001b[0m\u001b[0;34m[\u001b[0m\u001b[0;34m]\u001b[0m\u001b[0;34m,\u001b[0m \u001b[0;34m[\u001b[0m\u001b[0;34m]\u001b[0m\u001b[0;34m]\u001b[0m\u001b[0;34m\u001b[0m\u001b[0;34m\u001b[0m\u001b[0m\n\u001b[0;32m-> 2725\u001b[0;31m     \u001b[0;32mreturn\u001b[0m \u001b[0mmap\u001b[0m\u001b[0;34m(\u001b[0m\u001b[0mlist\u001b[0m\u001b[0;34m,\u001b[0m \u001b[0mzip\u001b[0m\u001b[0;34m(\u001b[0m\u001b[0;34m*\u001b[0m\u001b[0;34m(\u001b[0m\u001b[0mfactorize_from_iterable\u001b[0m\u001b[0;34m(\u001b[0m\u001b[0mit\u001b[0m\u001b[0;34m)\u001b[0m \u001b[0;32mfor\u001b[0m \u001b[0mit\u001b[0m \u001b[0;32min\u001b[0m \u001b[0miterables\u001b[0m\u001b[0;34m)\u001b[0m\u001b[0;34m)\u001b[0m\u001b[0;34m)\u001b[0m\u001b[0;34m\u001b[0m\u001b[0;34m\u001b[0m\u001b[0m\n\u001b[0m",
      "\u001b[0;32m~/opt/anaconda3/lib/python3.8/site-packages/pandas/core/arrays/categorical.py\u001b[0m in \u001b[0;36m<genexpr>\u001b[0;34m(.0)\u001b[0m\n\u001b[1;32m   2723\u001b[0m         \u001b[0;31m# For consistency, it should return a list of 2 lists.\u001b[0m\u001b[0;34m\u001b[0m\u001b[0;34m\u001b[0m\u001b[0;34m\u001b[0m\u001b[0m\n\u001b[1;32m   2724\u001b[0m         \u001b[0;32mreturn\u001b[0m \u001b[0;34m[\u001b[0m\u001b[0;34m[\u001b[0m\u001b[0;34m]\u001b[0m\u001b[0;34m,\u001b[0m \u001b[0;34m[\u001b[0m\u001b[0;34m]\u001b[0m\u001b[0;34m]\u001b[0m\u001b[0;34m\u001b[0m\u001b[0;34m\u001b[0m\u001b[0m\n\u001b[0;32m-> 2725\u001b[0;31m     \u001b[0;32mreturn\u001b[0m \u001b[0mmap\u001b[0m\u001b[0;34m(\u001b[0m\u001b[0mlist\u001b[0m\u001b[0;34m,\u001b[0m \u001b[0mzip\u001b[0m\u001b[0;34m(\u001b[0m\u001b[0;34m*\u001b[0m\u001b[0;34m(\u001b[0m\u001b[0mfactorize_from_iterable\u001b[0m\u001b[0;34m(\u001b[0m\u001b[0mit\u001b[0m\u001b[0;34m)\u001b[0m \u001b[0;32mfor\u001b[0m \u001b[0mit\u001b[0m \u001b[0;32min\u001b[0m \u001b[0miterables\u001b[0m\u001b[0;34m)\u001b[0m\u001b[0;34m)\u001b[0m\u001b[0;34m)\u001b[0m\u001b[0;34m\u001b[0m\u001b[0;34m\u001b[0m\u001b[0m\n\u001b[0m",
      "\u001b[0;32m~/opt/anaconda3/lib/python3.8/site-packages/pandas/core/arrays/categorical.py\u001b[0m in \u001b[0;36mfactorize_from_iterable\u001b[0;34m(values)\u001b[0m\n\u001b[1;32m   2695\u001b[0m         \u001b[0;31m# but only the resulting categories, the order of which is independent\u001b[0m\u001b[0;34m\u001b[0m\u001b[0;34m\u001b[0m\u001b[0;34m\u001b[0m\u001b[0m\n\u001b[1;32m   2696\u001b[0m         \u001b[0;31m# from ordered. Set ordered to False as default. See GH #15457\u001b[0m\u001b[0;34m\u001b[0m\u001b[0;34m\u001b[0m\u001b[0;34m\u001b[0m\u001b[0m\n\u001b[0;32m-> 2697\u001b[0;31m         \u001b[0mcat\u001b[0m \u001b[0;34m=\u001b[0m \u001b[0mCategorical\u001b[0m\u001b[0;34m(\u001b[0m\u001b[0mvalues\u001b[0m\u001b[0;34m,\u001b[0m \u001b[0mordered\u001b[0m\u001b[0;34m=\u001b[0m\u001b[0;32mFalse\u001b[0m\u001b[0;34m)\u001b[0m\u001b[0;34m\u001b[0m\u001b[0;34m\u001b[0m\u001b[0m\n\u001b[0m\u001b[1;32m   2698\u001b[0m         \u001b[0mcategories\u001b[0m \u001b[0;34m=\u001b[0m \u001b[0mcat\u001b[0m\u001b[0;34m.\u001b[0m\u001b[0mcategories\u001b[0m\u001b[0;34m\u001b[0m\u001b[0;34m\u001b[0m\u001b[0m\n\u001b[1;32m   2699\u001b[0m         \u001b[0mcodes\u001b[0m \u001b[0;34m=\u001b[0m \u001b[0mcat\u001b[0m\u001b[0;34m.\u001b[0m\u001b[0mcodes\u001b[0m\u001b[0;34m\u001b[0m\u001b[0;34m\u001b[0m\u001b[0m\n",
      "\u001b[0;32m~/opt/anaconda3/lib/python3.8/site-packages/pandas/core/arrays/categorical.py\u001b[0m in \u001b[0;36m__init__\u001b[0;34m(self, values, categories, ordered, dtype, fastpath)\u001b[0m\n\u001b[1;32m    360\u001b[0m \u001b[0;34m\u001b[0m\u001b[0m\n\u001b[1;32m    361\u001b[0m             \u001b[0;31m# we're inferring from values\u001b[0m\u001b[0;34m\u001b[0m\u001b[0;34m\u001b[0m\u001b[0;34m\u001b[0m\u001b[0m\n\u001b[0;32m--> 362\u001b[0;31m             \u001b[0mdtype\u001b[0m \u001b[0;34m=\u001b[0m \u001b[0mCategoricalDtype\u001b[0m\u001b[0;34m(\u001b[0m\u001b[0mcategories\u001b[0m\u001b[0;34m,\u001b[0m \u001b[0mdtype\u001b[0m\u001b[0;34m.\u001b[0m\u001b[0mordered\u001b[0m\u001b[0;34m)\u001b[0m\u001b[0;34m\u001b[0m\u001b[0;34m\u001b[0m\u001b[0m\n\u001b[0m\u001b[1;32m    363\u001b[0m \u001b[0;34m\u001b[0m\u001b[0m\n\u001b[1;32m    364\u001b[0m         \u001b[0;32melif\u001b[0m \u001b[0mis_categorical_dtype\u001b[0m\u001b[0;34m(\u001b[0m\u001b[0mvalues\u001b[0m\u001b[0;34m.\u001b[0m\u001b[0mdtype\u001b[0m\u001b[0;34m)\u001b[0m\u001b[0;34m:\u001b[0m\u001b[0;34m\u001b[0m\u001b[0;34m\u001b[0m\u001b[0m\n",
      "\u001b[0;32m~/opt/anaconda3/lib/python3.8/site-packages/pandas/core/dtypes/dtypes.py\u001b[0m in \u001b[0;36m__init__\u001b[0;34m(self, categories, ordered)\u001b[0m\n\u001b[1;32m    162\u001b[0m \u001b[0;34m\u001b[0m\u001b[0m\n\u001b[1;32m    163\u001b[0m     \u001b[0;32mdef\u001b[0m \u001b[0m__init__\u001b[0m\u001b[0;34m(\u001b[0m\u001b[0mself\u001b[0m\u001b[0;34m,\u001b[0m \u001b[0mcategories\u001b[0m\u001b[0;34m=\u001b[0m\u001b[0;32mNone\u001b[0m\u001b[0;34m,\u001b[0m \u001b[0mordered\u001b[0m\u001b[0;34m:\u001b[0m \u001b[0mOrdered\u001b[0m \u001b[0;34m=\u001b[0m \u001b[0;32mFalse\u001b[0m\u001b[0;34m)\u001b[0m\u001b[0;34m:\u001b[0m\u001b[0;34m\u001b[0m\u001b[0;34m\u001b[0m\u001b[0m\n\u001b[0;32m--> 164\u001b[0;31m         \u001b[0mself\u001b[0m\u001b[0;34m.\u001b[0m\u001b[0m_finalize\u001b[0m\u001b[0;34m(\u001b[0m\u001b[0mcategories\u001b[0m\u001b[0;34m,\u001b[0m \u001b[0mordered\u001b[0m\u001b[0;34m,\u001b[0m \u001b[0mfastpath\u001b[0m\u001b[0;34m=\u001b[0m\u001b[0;32mFalse\u001b[0m\u001b[0;34m)\u001b[0m\u001b[0;34m\u001b[0m\u001b[0;34m\u001b[0m\u001b[0m\n\u001b[0m\u001b[1;32m    165\u001b[0m \u001b[0;34m\u001b[0m\u001b[0m\n\u001b[1;32m    166\u001b[0m     \u001b[0;34m@\u001b[0m\u001b[0mclassmethod\u001b[0m\u001b[0;34m\u001b[0m\u001b[0;34m\u001b[0m\u001b[0m\n",
      "\u001b[0;32m~/opt/anaconda3/lib/python3.8/site-packages/pandas/core/dtypes/dtypes.py\u001b[0m in \u001b[0;36m_finalize\u001b[0;34m(self, categories, ordered, fastpath)\u001b[0m\n\u001b[1;32m    316\u001b[0m \u001b[0;34m\u001b[0m\u001b[0m\n\u001b[1;32m    317\u001b[0m         \u001b[0;32mif\u001b[0m \u001b[0mcategories\u001b[0m \u001b[0;32mis\u001b[0m \u001b[0;32mnot\u001b[0m \u001b[0;32mNone\u001b[0m\u001b[0;34m:\u001b[0m\u001b[0;34m\u001b[0m\u001b[0;34m\u001b[0m\u001b[0m\n\u001b[0;32m--> 318\u001b[0;31m             \u001b[0mcategories\u001b[0m \u001b[0;34m=\u001b[0m \u001b[0mself\u001b[0m\u001b[0;34m.\u001b[0m\u001b[0mvalidate_categories\u001b[0m\u001b[0;34m(\u001b[0m\u001b[0mcategories\u001b[0m\u001b[0;34m,\u001b[0m \u001b[0mfastpath\u001b[0m\u001b[0;34m=\u001b[0m\u001b[0mfastpath\u001b[0m\u001b[0;34m)\u001b[0m\u001b[0;34m\u001b[0m\u001b[0;34m\u001b[0m\u001b[0m\n\u001b[0m\u001b[1;32m    319\u001b[0m \u001b[0;34m\u001b[0m\u001b[0m\n\u001b[1;32m    320\u001b[0m         \u001b[0mself\u001b[0m\u001b[0;34m.\u001b[0m\u001b[0m_categories\u001b[0m \u001b[0;34m=\u001b[0m \u001b[0mcategories\u001b[0m\u001b[0;34m\u001b[0m\u001b[0;34m\u001b[0m\u001b[0m\n",
      "\u001b[0;32m~/opt/anaconda3/lib/python3.8/site-packages/pandas/core/dtypes/dtypes.py\u001b[0m in \u001b[0;36mvalidate_categories\u001b[0;34m(categories, fastpath)\u001b[0m\n\u001b[1;32m    492\u001b[0m                 \u001b[0;32mraise\u001b[0m \u001b[0mValueError\u001b[0m\u001b[0;34m(\u001b[0m\u001b[0;34m\"Categorical categories cannot be null\"\u001b[0m\u001b[0;34m)\u001b[0m\u001b[0;34m\u001b[0m\u001b[0;34m\u001b[0m\u001b[0m\n\u001b[1;32m    493\u001b[0m \u001b[0;34m\u001b[0m\u001b[0m\n\u001b[0;32m--> 494\u001b[0;31m             \u001b[0;32mif\u001b[0m \u001b[0;32mnot\u001b[0m \u001b[0mcategories\u001b[0m\u001b[0;34m.\u001b[0m\u001b[0mis_unique\u001b[0m\u001b[0;34m:\u001b[0m\u001b[0;34m\u001b[0m\u001b[0;34m\u001b[0m\u001b[0m\n\u001b[0m\u001b[1;32m    495\u001b[0m                 \u001b[0;32mraise\u001b[0m \u001b[0mValueError\u001b[0m\u001b[0;34m(\u001b[0m\u001b[0;34m\"Categorical categories must be unique\"\u001b[0m\u001b[0;34m)\u001b[0m\u001b[0;34m\u001b[0m\u001b[0;34m\u001b[0m\u001b[0m\n\u001b[1;32m    496\u001b[0m \u001b[0;34m\u001b[0m\u001b[0m\n",
      "\u001b[0;32mpandas/_libs/properties.pyx\u001b[0m in \u001b[0;36mpandas._libs.properties.CachedProperty.__get__\u001b[0;34m()\u001b[0m\n",
      "\u001b[0;32m~/opt/anaconda3/lib/python3.8/site-packages/pandas/core/indexes/numeric.py\u001b[0m in \u001b[0;36mis_unique\u001b[0;34m(self)\u001b[0m\n\u001b[1;32m    426\u001b[0m     \u001b[0;34m@\u001b[0m\u001b[0mcache_readonly\u001b[0m\u001b[0;34m\u001b[0m\u001b[0;34m\u001b[0m\u001b[0m\n\u001b[1;32m    427\u001b[0m     \u001b[0;32mdef\u001b[0m \u001b[0mis_unique\u001b[0m\u001b[0;34m(\u001b[0m\u001b[0mself\u001b[0m\u001b[0;34m)\u001b[0m \u001b[0;34m->\u001b[0m \u001b[0mbool\u001b[0m\u001b[0;34m:\u001b[0m\u001b[0;34m\u001b[0m\u001b[0;34m\u001b[0m\u001b[0m\n\u001b[0;32m--> 428\u001b[0;31m         \u001b[0;32mreturn\u001b[0m \u001b[0msuper\u001b[0m\u001b[0;34m(\u001b[0m\u001b[0;34m)\u001b[0m\u001b[0;34m.\u001b[0m\u001b[0mis_unique\u001b[0m \u001b[0;32mand\u001b[0m \u001b[0mself\u001b[0m\u001b[0;34m.\u001b[0m\u001b[0m_nan_idxs\u001b[0m\u001b[0;34m.\u001b[0m\u001b[0msize\u001b[0m \u001b[0;34m<\u001b[0m \u001b[0;36m2\u001b[0m\u001b[0;34m\u001b[0m\u001b[0;34m\u001b[0m\u001b[0m\n\u001b[0m\u001b[1;32m    429\u001b[0m \u001b[0;34m\u001b[0m\u001b[0m\n\u001b[1;32m    430\u001b[0m     \u001b[0;34m@\u001b[0m\u001b[0mdoc\u001b[0m\u001b[0;34m(\u001b[0m\u001b[0mIndex\u001b[0m\u001b[0;34m.\u001b[0m\u001b[0misin\u001b[0m\u001b[0;34m)\u001b[0m\u001b[0;34m\u001b[0m\u001b[0;34m\u001b[0m\u001b[0m\n",
      "\u001b[0;32mpandas/_libs/properties.pyx\u001b[0m in \u001b[0;36mpandas._libs.properties.CachedProperty.__get__\u001b[0;34m()\u001b[0m\n",
      "\u001b[0;32m~/opt/anaconda3/lib/python3.8/site-packages/pandas/core/indexes/base.py\u001b[0m in \u001b[0;36mis_unique\u001b[0;34m(self)\u001b[0m\n\u001b[1;32m   1649\u001b[0m         \u001b[0mReturn\u001b[0m \u001b[0;32mif\u001b[0m \u001b[0mthe\u001b[0m \u001b[0mindex\u001b[0m \u001b[0mhas\u001b[0m \u001b[0munique\u001b[0m \u001b[0mvalues\u001b[0m\u001b[0;34m.\u001b[0m\u001b[0;34m\u001b[0m\u001b[0;34m\u001b[0m\u001b[0m\n\u001b[1;32m   1650\u001b[0m         \"\"\"\n\u001b[0;32m-> 1651\u001b[0;31m         \u001b[0;32mreturn\u001b[0m \u001b[0mself\u001b[0m\u001b[0;34m.\u001b[0m\u001b[0m_engine\u001b[0m\u001b[0;34m.\u001b[0m\u001b[0mis_unique\u001b[0m\u001b[0;34m\u001b[0m\u001b[0;34m\u001b[0m\u001b[0m\n\u001b[0m\u001b[1;32m   1652\u001b[0m \u001b[0;34m\u001b[0m\u001b[0m\n\u001b[1;32m   1653\u001b[0m     \u001b[0;34m@\u001b[0m\u001b[0mproperty\u001b[0m\u001b[0;34m\u001b[0m\u001b[0;34m\u001b[0m\u001b[0m\n",
      "\u001b[0;31mKeyboardInterrupt\u001b[0m: "
     ]
    },
    {
     "data": {
      "image/png": "[encoded data removed]",
      "text/plain": [
       "<Figure size 432x288 with 1 Axes>"
      ]
     },
     "metadata": {
      "needs_background": "light"
     },
     "output_type": "display_data"
    }
   ],
   "source": [
    "sns.histplot(data=train, )"
   ]
  },
  {
   "cell_type": "code",
   "execution_count": null,
   "metadata": {
    "ExecuteTime": {
     "end_time": "2021-01-19T21:44:43.756036Z",
     "start_time": "2021-01-19T21:44:18.885Z"
    }
   },
   "outputs": [],
   "source": [
    "fig, ax = plt.subplots(1,2, figsize=(9,9))\n",
    "\n",
    "sns.displot(data=train, x ='garage_area', kde=True, ax=ax[0])\n",
    "plt.xlabel('Garage Area (Sqft.)')\n",
    "plt.title('Example of Normal Distribution')\n",
    "\n",
    "sns.boxplot(data=train, x='garage_area', ax=ax[1]);"
   ]
  },
  {
   "cell_type": "code",
   "execution_count": null,
   "metadata": {
    "ExecuteTime": {
     "end_time": "2021-01-19T21:44:43.774013Z",
     "start_time": "2021-01-19T21:44:18.887Z"
    }
   },
   "outputs": [],
   "source": [
    "sns.displot(data=train, x = 'year_built')\n",
    "plt.xlabel('Year Built')\n",
    "plt.title('Example of Slightly Left-Skewed Normal Dist.');"
   ]
  },
  {
   "cell_type": "code",
   "execution_count": null,
   "metadata": {
    "ExecuteTime": {
     "end_time": "2021-01-19T21:44:43.779168Z",
     "start_time": "2021-01-19T21:44:18.889Z"
    }
   },
   "outputs": [],
   "source": [
    "print('Normally Distributed Predictors:\\n')\n",
    "for feature in normal:\n",
    "    print(feature)"
   ]
  },
  {
   "cell_type": "markdown",
   "metadata": {},
   "source": [
    "#### Moderately skewed to the right "
   ]
  },
  {
   "cell_type": "code",
   "execution_count": null,
   "metadata": {
    "ExecuteTime": {
     "end_time": "2021-01-19T21:44:43.782713Z",
     "start_time": "2021-01-19T21:44:18.894Z"
    }
   },
   "outputs": [],
   "source": [
    "sns.displot(data=train, x='lot_area')\n",
    "plt.xlabel('Lot Area (SqFt)')\n",
    "plt.title('Moderately Skewed Distribution');"
   ]
  },
  {
   "cell_type": "code",
   "execution_count": null,
   "metadata": {
    "ExecuteTime": {
     "end_time": "2021-01-19T21:44:43.784886Z",
     "start_time": "2021-01-19T21:44:18.895Z"
    }
   },
   "outputs": [],
   "source": [
    "train['lot_area']"
   ]
  },
  {
   "cell_type": "code",
   "execution_count": null,
   "metadata": {
    "ExecuteTime": {
     "end_time": "2021-01-19T21:44:43.792305Z",
     "start_time": "2021-01-19T21:44:18.898Z"
    }
   },
   "outputs": [],
   "source": [
    "print('Moderately Skewed Predictors:\\n')\n",
    "for feature in moderate_right_skew:\n",
    "    print(feature)"
   ]
  },
  {
   "cell_type": "markdown",
   "metadata": {},
   "source": [
    "#### Highly skewed to the right"
   ]
  },
  {
   "cell_type": "code",
   "execution_count": null,
   "metadata": {
    "ExecuteTime": {
     "end_time": "2021-01-19T21:44:43.798769Z",
     "start_time": "2021-01-19T21:44:18.900Z"
    }
   },
   "outputs": [],
   "source": [
    "sns.displot(data=train, x='pool_area');"
   ]
  },
  {
   "cell_type": "code",
   "execution_count": null,
   "metadata": {
    "ExecuteTime": {
     "end_time": "2021-01-19T21:44:43.804215Z",
     "start_time": "2021-01-19T21:44:18.901Z"
    }
   },
   "outputs": [],
   "source": [
    "print('Highly Skewed Predictors:\\n')\n",
    "for feature in high_right_skew:\n",
    "    print(feature)"
   ]
  },
  {
   "cell_type": "markdown",
   "metadata": {},
   "source": [
    "#### Distribution Analysis\n",
    "\n",
    "There are several predictors whose values are highly skewed to the right, which will make our predictions for higher prices less accurate than for the lower prices. The values within the higher density count regions will have more errors to account for, which will ultimately make the regression more predictive than the outlier values. Therefore, the highly skewed predictors may not be useful for linear regression."
   ]
  },
  {
   "cell_type": "markdown",
   "metadata": {},
   "source": [
    "### Predictor Relationship to Sale Price "
   ]
  },
  {
   "cell_type": "code",
   "execution_count": null,
   "metadata": {
    "ExecuteTime": {
     "end_time": "2021-01-19T21:44:43.806786Z",
     "start_time": "2021-01-19T21:44:18.904Z"
    }
   },
   "outputs": [],
   "source": [
    "# Source: https://stackoverflow.com/questions/60124004/creating-dataframe-on-the-basis-of-r-squared-value\n",
    "\n",
    "# Dataframe of r2 values for each feature with regard to sale price\n",
    "\n",
    "r2_values = pd.DataFrame({'features': numerical_columns,\n",
    "            'r2':[\n",
    "            stats.linregress(train[[col,'saleprice']].to_numpy()).rvalue ** 2 \n",
    "            for col in numerical_columns\n",
    "                 ]\n",
    "                         })\n",
    "\n",
    "#display(r2_values)"
   ]
  },
  {
   "cell_type": "code",
   "execution_count": null,
   "metadata": {
    "ExecuteTime": {
     "end_time": "2021-01-19T21:44:43.819088Z",
     "start_time": "2021-01-19T21:44:18.906Z"
    }
   },
   "outputs": [],
   "source": [
    "low_r2 = r2_values[r2_values['r2'] < 0.25]['features'].to_list()\n",
    "\n",
    "intermediate_r2 = r2_values[(r2_values['r2'] >= 0.25) &\n",
    "                            (r2_values['r2'] < 0.4)]['features'].to_list()\n",
    "\n",
    "high_r2 = r2_values[r2_values['r2'] >= 0.4]['features'].to_list()"
   ]
  },
  {
   "cell_type": "code",
   "execution_count": 233,
   "metadata": {
    "ExecuteTime": {
     "end_time": "2021-01-19T21:49:40.366548Z",
     "start_time": "2021-01-19T21:49:40.280762Z"
    }
   },
   "outputs": [],
   "source": [
    "train['log_saleprice'] = train['saleprice'].map(np.log)"
   ]
  },
  {
   "cell_type": "markdown",
   "metadata": {},
   "source": [
    "#### R2 Values improve when saleprice is power transformed"
   ]
  },
  {
   "cell_type": "code",
   "execution_count": null,
   "metadata": {
    "ExecuteTime": {
     "end_time": "2021-01-19T21:44:43.832629Z",
     "start_time": "2021-01-19T21:44:18.912Z"
    }
   },
   "outputs": [],
   "source": [
    "# Assessing whether a power transformation of sale price improves the relationships\n",
    "# to its numerical features. \n",
    "log_r2_values = pd.DataFrame({'features': numerical_columns,\n",
    "            'r2':[\n",
    "            stats.linregress(train[[col,'log_saleprice']].to_numpy()).rvalue ** 2 \n",
    "            for col in numerical_columns\n",
    "                 ]\n",
    "                         })\n"
   ]
  },
  {
   "cell_type": "markdown",
   "metadata": {},
   "source": [
    "#### R2 Value Greater than 0.6"
   ]
  },
  {
   "cell_type": "code",
   "execution_count": null,
   "metadata": {
    "ExecuteTime": {
     "end_time": "2021-01-19T21:44:43.839197Z",
     "start_time": "2021-01-19T21:44:18.915Z"
    }
   },
   "outputs": [],
   "source": [
    "plt.figure(figsize=(9,9))\n",
    "sns.lmplot(data=train, x='overall_qual', y='saleprice')\n",
    "plt.xlim(0,11)\n",
    "plt.xlabel('Overall Quality')\n",
    "plt.ylabel('Sale Price ($)');\n",
    "\n",
    "plt.figure(figsize=(9,9))\n",
    "sns.lmplot(data=train, x='overall_qual', y='log_saleprice')\n",
    "plt.xlim(0,11)\n",
    "plt.xlabel('Overall Quality')\n",
    "plt.ylabel('log(Sale Price)');"
   ]
  },
  {
   "cell_type": "markdown",
   "metadata": {},
   "source": [
    "#### R2 Between  0.4 and 0.5"
   ]
  },
  {
   "cell_type": "code",
   "execution_count": null,
   "metadata": {
    "ExecuteTime": {
     "end_time": "2021-01-19T21:44:43.842579Z",
     "start_time": "2021-01-19T21:44:18.917Z"
    }
   },
   "outputs": [],
   "source": [
    "plt.figure(figsize=(9,9));\n",
    "sns.lmplot(data=train, x='gr_liv_area', y='saleprice')\n",
    "plt.xlim(0, 7000)\n",
    "plt.ylabel('Sale Price')\n",
    "plt.xlabel('Above Grade Living Area (sq ft.)')\n",
    "plt.title('Sale Price vs. Above Grade Living Area');\n",
    "           \n",
    "plt.figure(figsize=(9,9));\n",
    "sns.lmplot(data=train, x='gr_liv_area', y='log_saleprice')\n",
    "plt.xlim(0, 7000)\n",
    "plt.ylabel('log(Sale Price)')\n",
    "plt.title('log(Sale Price) vs. Above Grade Living Area')\n",
    "plt.xlabel('Above Grade Living Area (sq ft.)');"
   ]
  },
  {
   "cell_type": "markdown",
   "metadata": {},
   "source": [
    "#### R2 Between 0.3 and 0.4"
   ]
  },
  {
   "cell_type": "code",
   "execution_count": null,
   "metadata": {
    "ExecuteTime": {
     "end_time": "2021-01-19T21:44:43.852169Z",
     "start_time": "2021-01-19T21:44:18.919Z"
    }
   },
   "outputs": [],
   "source": [
    "plt.figure(figsize=(9,9));\n",
    "\n",
    "sns.lmplot(data=train, x='year_built', y='saleprice')\n",
    "plt.xlim(1860, 2020);\n",
    "\n",
    "plt.figure(figsize=(9,9));\n",
    "sns.lmplot(data=train, x='year_built', y='log_saleprice')\n",
    "plt.ylabel('log(Sale Price)')\n",
    "plt.xlim(1860, 2020);"
   ]
  },
  {
   "cell_type": "markdown",
   "metadata": {},
   "source": [
    "This plot in particular highlights how the power transformation of the sale price greatly improves the predictive ability of independent variables that do not have a strong relationship to the sale price. "
   ]
  },
  {
   "cell_type": "markdown",
   "metadata": {},
   "source": [
    "#### R2 Between 0.2 and 0.3"
   ]
  },
  {
   "cell_type": "code",
   "execution_count": null,
   "metadata": {
    "ExecuteTime": {
     "end_time": "2021-01-19T21:44:43.854361Z",
     "start_time": "2021-01-19T21:44:18.924Z"
    }
   },
   "outputs": [],
   "source": [
    "sns.lmplot(data=train, x='mas_vnr_area', y='saleprice')\n",
    "plt.xlim(0, 1800);\n",
    "\n",
    "sns.lmplot(data=train, x='mas_vnr_area', y='log_saleprice')\n",
    "plt.xlim(0, 1800)\n",
    "plt.ylabel('log(Sale Price)');"
   ]
  },
  {
   "cell_type": "markdown",
   "metadata": {},
   "source": [
    "#### R2 between 0 and 0.10"
   ]
  },
  {
   "cell_type": "code",
   "execution_count": null,
   "metadata": {
    "ExecuteTime": {
     "end_time": "2021-01-19T21:44:43.858323Z",
     "start_time": "2021-01-19T21:44:18.927Z"
    }
   },
   "outputs": [],
   "source": [
    "sns.lmplot(data=train, x='lot_area', y='saleprice');\n",
    "plt.xlim(0, 160000)\n",
    "\n",
    "sns.lmplot(data=train, x='lot_area', y='log_saleprice')\n",
    "plt.xlim(0, 160000)\n",
    "plt.ylabel('log(Sale Price)');"
   ]
  },
  {
   "cell_type": "markdown",
   "metadata": {},
   "source": [
    "### Relationship Analysis\n",
    "\n",
    "* Power transformation of Sale Price makes model slightly more accurate \n",
    "* 95% Confidence interval gets much larger with more outliers, proving that features with outliers will have a lower prediction accuracy \n",
    "    * Power transformaion narrows the 95% Confidence Interval for each feature\n"
   ]
  },
  {
   "cell_type": "markdown",
   "metadata": {},
   "source": [
    "### Numerical Predictor Summary Statistics"
   ]
  },
  {
   "cell_type": "code",
   "execution_count": null,
   "metadata": {
    "ExecuteTime": {
     "end_time": "2021-01-19T21:44:43.865242Z",
     "start_time": "2021-01-19T21:44:18.933Z"
    }
   },
   "outputs": [],
   "source": [
    "train[numerical_columns].describe()"
   ]
  },
  {
   "cell_type": "markdown",
   "metadata": {},
   "source": [
    "### Categorical and Ordinal Feature Cleaning"
   ]
  },
  {
   "cell_type": "markdown",
   "metadata": {},
   "source": [
    "#### Ordinal Features"
   ]
  },
  {
   "cell_type": "code",
   "execution_count": 222,
   "metadata": {
    "ExecuteTime": {
     "end_time": "2021-01-19T21:44:51.412117Z",
     "start_time": "2021-01-19T21:44:51.342853Z"
    }
   },
   "outputs": [],
   "source": [
    "# Filtering train for all categorical and ordinal columns (non-numerical datatypes)\n",
    "\n",
    "string_feats = train.select_dtypes(object)"
   ]
  },
  {
   "cell_type": "markdown",
   "metadata": {},
   "source": [
    "Inspiration for ordinal feature filtering came from this [source](https://stackoverflow.com/questions/56704700/select-columns-if-any-of-their-rows-contain-a-certain-string)"
   ]
  },
  {
   "cell_type": "code",
   "execution_count": 245,
   "metadata": {
    "ExecuteTime": {
     "end_time": "2021-01-19T21:53:05.948747Z",
     "start_time": "2021-01-19T21:53:05.841110Z"
    }
   },
   "outputs": [
    {
     "data": {
      "text/plain": [
       "['exter_qual',\n",
       " 'exter_cond',\n",
       " 'bsmt_qual',\n",
       " 'bsmt_cond',\n",
       " 'heating_qc',\n",
       " 'kitchen_qual',\n",
       " 'fireplace_qu',\n",
       " 'garage_qual',\n",
       " 'garage_cond']"
      ]
     },
     "execution_count": 245,
     "metadata": {},
     "output_type": "execute_result"
    }
   ],
   "source": [
    "# Selecting ordinal features: features that are categorical but have a clear ordering\n",
    "# Ordinal features have substring 'Ex' to denote highest score, so we can find \\\n",
    "# ordinal values based on whether the column has a tring that contains 'Ex'\n",
    "\n",
    "ordinal_filter = string_feats.applymap(lambda x: 'Ex' in str(x)).any()\n",
    "ordinal_columns = string_feats.columns[ordinal_filter].to_list()\n",
    "ordinal_columns"
   ]
  },
  {
   "cell_type": "code",
   "execution_count": 246,
   "metadata": {
    "ExecuteTime": {
     "end_time": "2021-01-19T21:53:07.321197Z",
     "start_time": "2021-01-19T21:53:07.306293Z"
    }
   },
   "outputs": [],
   "source": [
    "# Mapping quantitative scale to ordinal values\n",
    "\n",
    "qual_to_quant_scale = {'Ex': 5, 'Gd': 4, 'TA':3, 'Fa':2, 'Po': 1}\n",
    "\n",
    "train[ordinal_columns] = train[ordinal_columns].applymap(qual_to_quant_scale.get)"
   ]
  },
  {
   "cell_type": "code",
   "execution_count": 248,
   "metadata": {
    "ExecuteTime": {
     "end_time": "2021-01-19T21:53:21.214864Z",
     "start_time": "2021-01-19T21:53:21.177757Z"
    }
   },
   "outputs": [],
   "source": [
    "ordinal_columns.append('saleprice')\n",
    "# transform_ordinal = train[ordinal_columns]\n",
    "# transform_ordinal\n",
    "# transfrom_ordinal['saleprice'] = train['saleprice']"
   ]
  },
  {
   "cell_type": "code",
   "execution_count": 249,
   "metadata": {
    "ExecuteTime": {
     "end_time": "2021-01-19T21:53:22.425833Z",
     "start_time": "2021-01-19T21:53:21.819384Z"
    }
   },
   "outputs": [
    {
     "data": {
      "text/plain": [
       "<AxesSubplot:>"
      ]
     },
     "execution_count": 249,
     "metadata": {},
     "output_type": "execute_result"
    },
    {
     "data": {
      "image/png": "[encoded data removed]",
      "text/plain": [
       "<Figure size 432x288 with 2 Axes>"
      ]
     },
     "metadata": {
      "needs_background": "light"
     },
     "output_type": "display_data"
    }
   ],
   "source": [
    "sns.heatmap(train[ordinal_columns].corr()[['saleprice']].sort_values('saleprice'),\n",
    "            cmap='coolwarm',\n",
    "            vmin=-1,\n",
    "            vmax=1,\n",
    "            annot=True)"
   ]
  },
  {
   "cell_type": "code",
   "execution_count": 231,
   "metadata": {
    "ExecuteTime": {
     "end_time": "2021-01-19T21:48:29.531223Z",
     "start_time": "2021-01-19T21:48:29.484478Z"
    }
   },
   "outputs": [],
   "source": [
    "ordinal_columns.remove('saleprice')"
   ]
  },
  {
   "cell_type": "code",
   "execution_count": 237,
   "metadata": {
    "ExecuteTime": {
     "end_time": "2021-01-19T21:52:24.542012Z",
     "start_time": "2021-01-19T21:52:24.349482Z"
    }
   },
   "outputs": [
    {
     "data": {
      "text/html": [
       "<div>\n",
       "<style scoped>\n",
       "    .dataframe tbody tr th:only-of-type {\n",
       "        vertical-align: middle;\n",
       "    }\n",
       "\n",
       "    .dataframe tbody tr th {\n",
       "        vertical-align: top;\n",
       "    }\n",
       "\n",
       "    .dataframe thead th {\n",
       "        text-align: right;\n",
       "    }\n",
       "</style>\n",
       "<table border=\"1\" class=\"dataframe\">\n",
       "  <thead>\n",
       "    <tr style=\"text-align: right;\">\n",
       "      <th></th>\n",
       "      <th>features</th>\n",
       "      <th>r2</th>\n",
       "    </tr>\n",
       "  </thead>\n",
       "  <tbody>\n",
       "    <tr>\n",
       "      <th>0</th>\n",
       "      <td>exter_qual</td>\n",
       "      <td>0.486432</td>\n",
       "    </tr>\n",
       "    <tr>\n",
       "      <th>1</th>\n",
       "      <td>exter_cond</td>\n",
       "      <td>0.004013</td>\n",
       "    </tr>\n",
       "    <tr>\n",
       "      <th>2</th>\n",
       "      <td>bsmt_qual</td>\n",
       "      <td>NaN</td>\n",
       "    </tr>\n",
       "    <tr>\n",
       "      <th>3</th>\n",
       "      <td>bsmt_cond</td>\n",
       "      <td>NaN</td>\n",
       "    </tr>\n",
       "    <tr>\n",
       "      <th>4</th>\n",
       "      <td>heating_qc</td>\n",
       "      <td>0.249913</td>\n",
       "    </tr>\n",
       "    <tr>\n",
       "      <th>5</th>\n",
       "      <td>kitchen_qual</td>\n",
       "      <td>0.473076</td>\n",
       "    </tr>\n",
       "    <tr>\n",
       "      <th>6</th>\n",
       "      <td>fireplace_qu</td>\n",
       "      <td>NaN</td>\n",
       "    </tr>\n",
       "    <tr>\n",
       "      <th>7</th>\n",
       "      <td>garage_qual</td>\n",
       "      <td>NaN</td>\n",
       "    </tr>\n",
       "    <tr>\n",
       "      <th>8</th>\n",
       "      <td>garage_cond</td>\n",
       "      <td>NaN</td>\n",
       "    </tr>\n",
       "  </tbody>\n",
       "</table>\n",
       "</div>"
      ],
      "text/plain": [
       "       features        r2\n",
       "0    exter_qual  0.486432\n",
       "1    exter_cond  0.004013\n",
       "2     bsmt_qual       NaN\n",
       "3     bsmt_cond       NaN\n",
       "4    heating_qc  0.249913\n",
       "5  kitchen_qual  0.473076\n",
       "6  fireplace_qu       NaN\n",
       "7   garage_qual       NaN\n",
       "8   garage_cond       NaN"
      ]
     },
     "metadata": {},
     "output_type": "display_data"
    }
   ],
   "source": [
    "log_r2_ordinal_values = pd.DataFrame({'features': ordinal_columns,\n",
    "            'r2':[\n",
    "            stats.linregress(train[[col,'log_saleprice']].to_numpy()).rvalue ** 2 \n",
    "            for col in ordinal_columns\n",
    "                 ]\n",
    "                         })\n",
    "#r2_values['r2'] = stats.linregress(train[[ordinal_columns, 'saleprice']].to_numpy()).rvalue ** 2\n",
    "display(log_r2_ordinal_values)\n"
   ]
  },
  {
   "cell_type": "code",
   "execution_count": 122,
   "metadata": {
    "ExecuteTime": {
     "end_time": "2021-01-19T18:57:31.054090Z",
     "start_time": "2021-01-19T18:57:31.048452Z"
    }
   },
   "outputs": [],
   "source": [
    "# Imputing ordinal null values with 0. Null values denote the feature does not exist, so I \\\n",
    "# substitute in 0 for the ordinal scale (below poor).\n",
    "\n",
    "#train[ordinal_columns] = train[ordinal_columns].fillna(0)"
   ]
  },
  {
   "cell_type": "markdown",
   "metadata": {},
   "source": [
    "#### Strong Ordinal Relationship to Sale Price"
   ]
  },
  {
   "cell_type": "code",
   "execution_count": 124,
   "metadata": {
    "ExecuteTime": {
     "end_time": "2021-01-19T18:58:04.827458Z",
     "start_time": "2021-01-19T18:58:04.824343Z"
    }
   },
   "outputs": [],
   "source": [
    "\n",
    "\n",
    "# sns.lmplot(data=train, x='garage_qual', y='saleprice')\n",
    "# plt.xticks([0,1,2,3,4,5,6])\n",
    "# sns.lmplot(data=train, x='garage_qual', y='log_saleprice')\n",
    "# plt.xticks([0,1,2,3,4,5,6])\n",
    "\n",
    "\n",
    "        \n",
    "#plt.tight_layout()"
   ]
  },
  {
   "cell_type": "markdown",
   "metadata": {},
   "source": [
    "#### Weak Ordinal Relationship to Sale Price "
   ]
  },
  {
   "cell_type": "code",
   "execution_count": 127,
   "metadata": {
    "ExecuteTime": {
     "end_time": "2021-01-19T18:58:17.803800Z",
     "start_time": "2021-01-19T18:58:17.801416Z"
    }
   },
   "outputs": [],
   "source": [
    "# sns.lmplot(data=train, x='exter_qual', y='saleprice')\n",
    "# plt.xticks([0,1,2,3,4,5,6])\n",
    "# sns.lmplot(data=train, x='exter_qual', y='log_saleprice')\n",
    "# plt.xticks([0,1,2,3,4,5,6]);"
   ]
  },
  {
   "cell_type": "markdown",
   "metadata": {},
   "source": [
    "#### Categorical Features"
   ]
  },
  {
   "cell_type": "code",
   "execution_count": 128,
   "metadata": {
    "ExecuteTime": {
     "end_time": "2021-01-19T18:58:19.059469Z",
     "start_time": "2021-01-19T18:58:19.056480Z"
    }
   },
   "outputs": [],
   "source": [
    "# Categorical datatypes are object datatypes minus the ordinal columns\n",
    "\n",
    "#categorical_columns = string_feats.drop(ordinal_columns, axis=1).columns.to_list()\n",
    "categorical_columns = string_feats.columns.to_list()"
   ]
  },
  {
   "cell_type": "code",
   "execution_count": 129,
   "metadata": {
    "ExecuteTime": {
     "end_time": "2021-01-19T18:58:21.158288Z",
     "start_time": "2021-01-19T18:58:21.155118Z"
    }
   },
   "outputs": [],
   "source": [
    "# There is one column that is an integer datatype that is actually a categorical variable: ms_subclass\n",
    "# The integers in this column denote a particular building class rather than a continuous value\n",
    "\n",
    "categorical_columns.append('ms_subclass')"
   ]
  },
  {
   "cell_type": "code",
   "execution_count": 130,
   "metadata": {
    "ExecuteTime": {
     "end_time": "2021-01-19T18:58:22.020444Z",
     "start_time": "2021-01-19T18:58:21.847211Z"
    }
   },
   "outputs": [],
   "source": [
    "# Filling categorical feature null values with 'Na'\n",
    "# Allows me to identify and drop nulls in Creation of dummy columns\n",
    "\n",
    "train[categorical_columns] = train[categorical_columns].fillna('Na')"
   ]
  },
  {
   "cell_type": "markdown",
   "metadata": {},
   "source": [
    "#### One-hot encoding categorical features\n",
    "\n",
    "In order to utilize the categorical data, it needs to be transformed into \n",
    "meaningful numerical information. To do this, I will one hot encode the categorical \n",
    "data through a two-step masking process. \n",
    "\n",
    "* In the first step, I will analyze whether the value for a given feature has enough meaningful data points to ensure that I will not be introducing unnecessary variance into my linear regression. I set the threshold for this at 100 total observations per value. \n",
    "* In the second step, I created 4 distinct sale price bins that allowed me to filter each value based on its mean sale price. By doing so, I was able to create some insight into how that particular value influences the sale price of a house. I then ensured that I did not create an empty dummy column in order to maintain the efficiency of my dummy columns. \n",
    "\n",
    "I maintained rank efficiency through this two-step process, ensuring that there was always at least one value from each feature that would not be found in any of the created dummy columns."
   ]
  },
  {
   "cell_type": "code",
   "execution_count": 131,
   "metadata": {
    "ExecuteTime": {
     "end_time": "2021-01-19T18:58:24.399147Z",
     "start_time": "2021-01-19T18:58:23.994541Z"
    }
   },
   "outputs": [],
   "source": [
    "def one_hot_encode(column_list):\n",
    "    \n",
    "    '''One hot encodes categorical features into 5 possible bins: one of the \n",
    "    150k, 200k, 250k, 300k sale bins or the dropped bin which includes values\n",
    "    with not enough features to be included in one of the sale price bins. \n",
    "    ---\n",
    "    Parameter:\n",
    "    column_list: list of categorical columns to be one-hot encoded.'''\n",
    "    \n",
    "    # List of dummy columns created \n",
    "    dummy_columns = []\n",
    "    columns_dummied = []\n",
    "    \n",
    "    for col in column_list:\n",
    "    # Creates series of values in column with their sale price\n",
    "        col_groupby = train.groupby(col)['saleprice']\n",
    "        col_count_mean = col_groupby.agg(['count', 'mean'])\n",
    "        \n",
    "        \n",
    "        # Drop null values from the value counts\n",
    "        if 'Na' in col_count_mean.index.to_list():\n",
    "            col_count_mean.drop('Na', inplace=True)\n",
    "    \n",
    "        \n",
    "        # Ensures that sparse values are not included \n",
    "        col_counts = col_count_mean['count'] > 100\n",
    "        if len(col_count_mean[col_counts]) < 2:\n",
    "            continue\n",
    "            \n",
    "        \n",
    "        # Sale price binning for each feature \n",
    "        # The price associated with the first 3 bins denotes the price to \n",
    "        # which the bin goes up to, wheras the last bin represents the values \n",
    "        # that round to 300k\n",
    "        col_price_150k = col_count_mean['mean'] <= 150_000\n",
    "        \n",
    "        col_price_200k = ((col_count_mean['mean'] > 150_000) & \n",
    "                                (col_count_mean['mean'] <= 200_000))\n",
    "        \n",
    "        col_price_250k = ((col_count_mean['mean'] > 200_000) & \n",
    "                                (col_count_mean['mean'] <= 250_000))\n",
    "        \n",
    "        col_price_300k = col_count_mean['mean'] > 250_000\n",
    "        \n",
    "        \n",
    "        # List of values in each feature that meet sale price conditions and count values\n",
    "        col_150k_values = col_count_mean[(col_counts) & \n",
    "                                         (col_price_150k)].index.to_list()\n",
    "        \n",
    "        col_200k_values = col_count_mean[(col_counts) & \n",
    "                                         (col_price_200k)].index.to_list()\n",
    "        \n",
    "        col_250k_values = col_count_mean[(col_counts) & \n",
    "                                         (col_price_250k)].index.to_list()\n",
    "        \n",
    "        col_300k_values = col_count_mean[(col_counts) & \n",
    "                                         (col_price_300k)].index.to_list()\n",
    "        \n",
    "        \n",
    "        # Masking train for dummy column creation\n",
    "        col_150k_mask = train[col].isin(col_150k_values)\n",
    "        col_200k_mask = train[col].isin(col_200k_values)\n",
    "        col_250k_mask = train[col].isin(col_250k_values)\n",
    "        col_300k_mask = train[col].isin(col_300k_values)\n",
    "        \n",
    "        # Getting base column name for dummy column creation \n",
    "        column_name = f'{col}'\n",
    "        columns_dummied.append(column_name)\n",
    "        \n",
    "        columns_created = []\n",
    "        \n",
    "        # Creating dummy columns\n",
    "        if sum(col_150k_mask) > 0:\n",
    "            train[column_name + '_150k'] = col_150k_mask.astype(int)\n",
    "            columns_created.append(column_name + '_150k')\n",
    "        if sum(col_200k_mask) > 0:\n",
    "            train[(column_name + '_200k')] = col_200k_mask.astype(int)\n",
    "            columns_created.append(column_name + '_200k')\n",
    "        if sum(col_250k_mask) > 0:\n",
    "            train[(column_name + '_250k')] = col_250k_mask.astype(int)\n",
    "            columns_created.append(column_name + '_250k')\n",
    "        if sum(col_300k_mask) > 0:\n",
    "            train[(column_name + '_300k')] = col_300k_mask.astype(int)\n",
    "            columns_created.append(column_name + '_300k')\n",
    "            \n",
    "        \n",
    "        # Filling null values with 0 \n",
    "        train.loc[:, columns_created] = train[columns_created].fillna(0)\n",
    "        \n",
    "        # Adding dummy columns to dummy_column list\n",
    "        dummy_columns += columns_created\n",
    "        \n",
    "    return (columns_dummied, dummy_columns)\n",
    "\n",
    "categorical_cols = one_hot_encode(categorical_columns)"
   ]
  },
  {
   "cell_type": "markdown",
   "metadata": {},
   "source": [
    "#### Validity of this Approach\n",
    "\n",
    "To graphically show the validity of this approach, I plotted 7 neighborhood average selling prices. Amongst the neighborhoods chosen, the neighborhoods could fall in one of three bins: the up to 150k bin, the up to 250k  bin, or the dropped bin because the neighborhood does not have enough homes to make it past the observational threshold."
   ]
  },
  {
   "cell_type": "code",
   "execution_count": 132,
   "metadata": {
    "ExecuteTime": {
     "end_time": "2021-01-19T18:58:26.585222Z",
     "start_time": "2021-01-19T18:58:26.378693Z"
    }
   },
   "outputs": [
    {
     "data": {
      "image/png": "[encoded data removed]",
      "text/plain": [
       "<Figure size 648x648 with 1 Axes>"
      ]
     },
     "metadata": {
      "needs_background": "light"
     },
     "output_type": "display_data"
    }
   ],
   "source": [
    "\n",
    "neighborhood_gb = train.groupby('neighborhood')['saleprice']\n",
    "neighborhood_count_mean = neighborhood_gb.agg(['count','mean'])[:7]\n",
    "\n",
    "plt.figure(figsize=(9,9))\n",
    "sns.barplot(data=neighborhood_count_mean, x=neighborhood_count_mean.index, y='mean')\n",
    "plt.ylabel('Mean Sale Price ($)')\n",
    "plt.title('Average Selling Price Varies per Neighborhood');"
   ]
  },
  {
   "cell_type": "code",
   "execution_count": 133,
   "metadata": {
    "ExecuteTime": {
     "end_time": "2021-01-19T18:58:27.408567Z",
     "start_time": "2021-01-19T18:58:27.405391Z"
    }
   },
   "outputs": [],
   "source": [
    "# https://seaborn.pydata.org/tutorial/categorical.html\n",
    "# sns.catplot(x=categorical_cols[0][0], y='saleprice', data=train)"
   ]
  },
  {
   "cell_type": "code",
   "execution_count": 134,
   "metadata": {
    "ExecuteTime": {
     "end_time": "2021-01-19T18:58:27.957642Z",
     "start_time": "2021-01-19T18:58:27.954463Z"
    }
   },
   "outputs": [],
   "source": [
    "# sns.displot(data=train, x='neighborhood_100k')\n",
    "# sns.displot(data=train, x='neighborhood_200k')\n",
    "# sns.displot(data=train, x='neighborhood_300k')"
   ]
  },
  {
   "cell_type": "code",
   "execution_count": 135,
   "metadata": {
    "ExecuteTime": {
     "end_time": "2021-01-19T18:58:28.529231Z",
     "start_time": "2021-01-19T18:58:28.526219Z"
    }
   },
   "outputs": [],
   "source": [
    "\n",
    "#sns.pairplot(data=train, x_vars=one_hot_encode(categorical_columns), y_vars='saleprice')\n",
    "#len(one_hot_encode(categorical_columns))\n",
    "# n_row = 0\n",
    "# n_column=0\n",
    "# fig, ax = plt.subplots(7,3, figsize=(12,12))\n",
    "# for col in dummy_categorical_cols:\n",
    "    \n",
    "#     ax[n_row,n_column].hist(x=train[col])\n",
    "    \n",
    "#     n_column += 1\n",
    "#     if n_column == 3:\n",
    "#         n_row += 1\n",
    "#         n_column = 0\n",
    "        \n",
    "# plt.tight_layout()"
   ]
  },
  {
   "cell_type": "code",
   "execution_count": 136,
   "metadata": {
    "ExecuteTime": {
     "end_time": "2021-01-19T18:58:29.079499Z",
     "start_time": "2021-01-19T18:58:29.076869Z"
    }
   },
   "outputs": [],
   "source": [
    "# grouby neighborhood, display count of each instance of the neighborhood. Display, the average price\n",
    "# bucket into separate category and drop sparse values from regression \n",
    "#plt.figure(figsize=(10,10))\n",
    "# neighborhood_gb = train.groupby('neighborhood')['saleprice']\n",
    "# neighborhood_count_mean = neighborhood_gb.agg(['count','mean'])\n",
    "\n",
    "#sns.histplot(x=neighborhood_count_mean.index)\n",
    "#sns.barplot(data=neigh_mask, x=neigh_mask.index, y='mean', hue='count');"
   ]
  },
  {
   "cell_type": "code",
   "execution_count": 137,
   "metadata": {
    "ExecuteTime": {
     "end_time": "2021-01-19T18:58:29.381326Z",
     "start_time": "2021-01-19T18:58:29.371008Z"
    }
   },
   "outputs": [],
   "source": [
    "# neigh_count_values = neighborhood_count_mean[neighborhood_count_mean['count'] > 100]\n",
    "# neigh_150k_values = neighborhood_count_mean['mean'] < 150_000\n",
    "# neigh_150k_250k_values = (neighborhood_count_mean['mean'] >= 150_000) & (neighborhood_count_mean['mean'] < 250_000)\n",
    "# neigh_250k_values = neighborhood_count_mean['mean'] >= 250_000"
   ]
  },
  {
   "cell_type": "code",
   "execution_count": 138,
   "metadata": {
    "ExecuteTime": {
     "end_time": "2021-01-19T18:58:29.589380Z",
     "start_time": "2021-01-19T18:58:29.587708Z"
    }
   },
   "outputs": [],
   "source": [
    "# # Bin 1 consists of neighborhoods with > 100 houses and < 150K mean price\n",
    "# neighborhood_bin_1 = train['neighborhood'].isin(neighborhood_150k_values)"
   ]
  },
  {
   "cell_type": "code",
   "execution_count": null,
   "metadata": {},
   "outputs": [],
   "source": [
    "# Saving the clean training data to my outputs\n",
    "\n",
    "train.to_csv('./output/train_clean.csv', index=False)"
   ]
  },
  {
   "cell_type": "markdown",
   "metadata": {},
   "source": [
    "## Ability to Address Problem Statement"
   ]
  },
  {
   "cell_type": "markdown",
   "metadata": {},
   "source": [
    "The thoroughness of the Ames Housing dataset allows me to construct numerical data to perform linear regression modeling. While 43 of the features are categorical by nature, I was able to transform these columns into meaningful data points utilizing one hot encoding and hierarchical data into an ordinal ranking. The next steps involve feature ranking, multicollinearity testing, and regularization in order to develop the most accurate model."
   ]
  }
 ],
 "metadata": {
  "kernelspec": {
   "display_name": "Python 3",
   "language": "python",
   "name": "python3"
  },
  "language_info": {
   "codemirror_mode": {
    "name": "ipython",
    "version": 3
   },
   "file_extension": ".py",
   "mimetype": "text/x-python",
   "name": "python",
   "nbconvert_exporter": "python",
   "pygments_lexer": "ipython3",
   "version": "3.8.5"
  }
 },
 "nbformat": 4,
 "nbformat_minor": 4
}
