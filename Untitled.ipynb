{
 "cells": [
  {
   "cell_type": "code",
   "execution_count": 1,
   "metadata": {},
   "outputs": [],
   "source": [
    "import pandas as pd\n",
    "import numpy as np\n",
    "import matplotlib.pyplot as plt\n",
    "import seaborn as sns\n",
    "import math\n",
    "import statsmodels.api as sm\n",
    "\n",
    "from sklearn.linear_model import LinearRegression, LassoCV, RidgeCV\n",
    "from sklearn.preprocessing import StandardScaler\n",
    "from sklearn.feature_selection import RFE\n",
    "from sklearn.model_selection import train_test_split\n",
    "from sklearn import metrics\n",
    "from statsmodels.formula.api import ols"
   ]
  },
  {
   "cell_type": "code",
   "execution_count": 13,
   "metadata": {},
   "outputs": [],
   "source": [
    "# Reading the training dataset into dataframe train\n",
    "train = pd.read_csv('datasets/train.csv')"
   ]
  },
  {
   "cell_type": "code",
   "execution_count": 16,
   "metadata": {},
   "outputs": [],
   "source": [
    "# Cleaning the name of the train column headers\n",
    "for col in train.columns:\n",
    "    train.rename(columns={col: col.lower().replace(' ','_')}, inplace=True)"
   ]
  },
  {
   "cell_type": "code",
   "execution_count": 17,
   "metadata": {},
   "outputs": [
    {
     "data": {
      "text/plain": [
       "pool_qc           2042\n",
       "misc_feature      1986\n",
       "alley             1911\n",
       "fence             1651\n",
       "fireplace_qu      1000\n",
       "lot_frontage       330\n",
       "garage_finish      114\n",
       "garage_cond        114\n",
       "garage_qual        114\n",
       "garage_yr_blt      114\n",
       "garage_type        113\n",
       "bsmt_exposure       58\n",
       "bsmtfin_type_2      56\n",
       "bsmtfin_type_1      55\n",
       "bsmt_cond           55\n",
       "bsmt_qual           55\n",
       "mas_vnr_type        22\n",
       "mas_vnr_area        22\n",
       "bsmt_half_bath       2\n",
       "bsmt_full_bath       2\n",
       "garage_cars          1\n",
       "garage_area          1\n",
       "bsmt_unf_sf          1\n",
       "bsmtfin_sf_2         1\n",
       "total_bsmt_sf        1\n",
       "bsmtfin_sf_1         1\n",
       "overall_cond         0\n",
       "dtype: int64"
      ]
     },
     "execution_count": 17,
     "metadata": {},
     "output_type": "execute_result"
    }
   ],
   "source": [
    "# Checking which datasets columns are null\n",
    "train.isnull().sum().sort_values(ascending=False).head(n=27)"
   ]
  },
  {
   "cell_type": "markdown",
   "metadata": {},
   "source": [
    "## Explanation of Null Values \n",
    "\n",
    "* For features with null values compromising over half their total observations, I decided against using the feature in my model.\n",
    "* I only imputed values other than 0 for features "
   ]
  },
  {
   "cell_type": "markdown",
   "metadata": {},
   "source": [
    "|Feature with Null Value|What Null Value Means|Imputed Value|\n",
    "| --- | --- | --- |\n",
    "|fireplace_qu|No fireplace|0|\n",
    "|lot_frontage|House not on road|0|\n",
    "|garage_finish|No garage|0|\n",
    "|fireplace_qu|No fireplace|0|\n",
    "|garage_cond|No garage|0|\n",
    "|garage_qual|No garage|0|\n",
    "|garage_yr_blt|No garage|Median year built|\n",
    "|garage_type|No garage|0|\n",
    "|bsmt_exposure|No basement|0|\n",
    "|bsmtfin_type_2|No basement|0|\n",
    "|bsmtfin_type_1|No basement|0|\n",
    "|bsmt_cond|No basement|0|\n",
    "|bsmt_qual|No basement|0|\n",
    "|mas_vnr_type|No veneer|0|\n",
    "|mas_vnr_area|No veneer|0|\n",
    "|bsmt_half_bath|No basement|0|\n",
    "|bsmt_full_bath|No basement|0|\n",
    "|garage_cars|No garage|0|\n",
    "|garage_area|No garage|0|\n",
    "|bsmt_unf_sf|No basement|0|\n",
    "|bsmtfin_sf_2|No basement|0|\n",
    "|total_bsmt_sf|No basement|0|\n",
    "|bsmtfin_sf_1|No basement|0|\n",
    "\n"
   ]
  },
  {
   "cell_type": "code",
   "execution_count": null,
   "metadata": {},
   "outputs": [],
   "source": []
  }
 ],
 "metadata": {
  "kernelspec": {
   "display_name": "Python 3",
   "language": "python",
   "name": "python3"
  },
  "language_info": {
   "codemirror_mode": {
    "name": "ipython",
    "version": 3
   },
   "file_extension": ".py",
   "mimetype": "text/x-python",
   "name": "python",
   "nbconvert_exporter": "python",
   "pygments_lexer": "ipython3",
   "version": "3.8.5"
  }
 },
 "nbformat": 4,
 "nbformat_minor": 4
}
