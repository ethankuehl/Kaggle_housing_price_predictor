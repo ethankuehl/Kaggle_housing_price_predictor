{
 "cells": [
  {
   "cell_type": "markdown",
   "metadata": {},
   "source": [
    "# Conclusions and Recommendations\n",
    "\n",
    "## Problem Statement\n",
    "Home appraisals are almost always used in home purchase and sale transactions as well as in mortgage refinancing. Appraisers within a given financial institution will utilize the same checklist for conducting home value comparisons in a given area. This project aims to use linear regression to aid home appraisers in Ames, Iowa determine an accurate home value based on responses to the appraisal checklist used in the Ames, Iowa Housing dataset.\n",
    "\n",
    "## Summary\n",
    "* EDA and Data Cleaning\n",
    "    * Addressed outliers that were skewing the data. \n",
    "        * Improved the accuracy of my linear regression\n",
    "    * Imputed values for null numerical observations\n",
    "        * Median year for the garage_yr_blt and 0 for all other numerical values\n",
    "        * Nulls in categorical values were addressed in one-hot encoding process\n",
    "    * Evaluated whether power transforming sale price would improve regression\n",
    "        * Yes, it increases the overall R2 of my predictors \n",
    "    * One-hot encoded categorical variables\n",
    "        * Allowed me to perform linear regression analysis on them\n",
    "* Pre-processing\n",
    "    * Created interaction terms to make predictor matrix more rank efficient \n",
    "* Modeling\n",
    "    * Created 6 unique models to identify optimized production model. \n",
    "    * Evaluated which model performed best with R2 and Root Mean Squared Error while taking into consideration performance (time taken to predict values). \n",
    "    * Determined that linear regression with lasso features was the most production ready model for home appraisers to use in real life due to its lower variance error and higher performance compared to the more accurate overfit linear regression. \n",
    "    "
   ]
  },
  {
   "cell_type": "markdown",
   "metadata": {},
   "source": [
    "## Conclusions"
   ]
  },
  {
   "cell_type": "markdown",
   "metadata": {},
   "source": [
    "* With an R2 of 0.9304 and a root mean squared error of 20351.76 dollars, I would recommend that home appraisers use my production model when considering the value of a home in the city of Ames, Iowa. \n",
    "    * The R2 tells us that 93%  of the variance in the price a home sells for is accounted for by my model.  \n",
    "    * The root mean squared error of 20,351.76 dollars is only 11% of the mean home value in Ames, Iowa. \n",
    "    * Together, the statistics signify that my production model is a substantial asset to home appraisers when objectively identifying the value of a home.\n",
    "    * Important caveats: \n",
    "        * Appraisers have to be using the same home appraisal checklist as the Ames, Iowa Housing dataset. \n",
    "        * This model was designed specifically for the city of Ames, Iowa. It cannot be generalized to other cities in Iowa, much less other states.  \n",
    "        \n",
    "* Important information for home appraisers\n",
    "    * Location matters when appraising a home: you cannot justify the price of a home based on its inherent qualities alone. \n",
    "\n",
    "\n"
   ]
  },
  {
   "cell_type": "markdown",
   "metadata": {},
   "source": [
    "## Future Steps\n",
    "\n",
    "I plan to generalize this model outside of Ames, Iowa by accruing more home appraisal information from a larger geographical region. In doing so, I could rely less on the particular local neighborhood locations when making my final my final prediction for home price. However, the company would need to be sure that they were going to continue using this home appraisal checklist as their standard for the near future because my model is restricted to predicting home price based on the exact features provided in this checklist.\n",
    "Therefore, a more immediate next step would be to identify whether there is a better appraisal checklist the company could use for assessing home value. To determine this, I would build a separate model utilizing another company's checklist and determine whether I can achieve the same predictive accuracy at a similar level of efficiency. "
   ]
  },
  {
   "cell_type": "code",
   "execution_count": null,
   "metadata": {},
   "outputs": [],
   "source": []
  }
 ],
 "metadata": {
  "kernelspec": {
   "display_name": "Python 3",
   "language": "python",
   "name": "python3"
  },
  "language_info": {
   "codemirror_mode": {
    "name": "ipython",
    "version": 3
   },
   "file_extension": ".py",
   "mimetype": "text/x-python",
   "name": "python",
   "nbconvert_exporter": "python",
   "pygments_lexer": "ipython3",
   "version": "3.8.5"
  }
 },
 "nbformat": 4,
 "nbformat_minor": 4
}
